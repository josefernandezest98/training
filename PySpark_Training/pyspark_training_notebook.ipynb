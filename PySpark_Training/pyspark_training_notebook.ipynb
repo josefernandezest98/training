{
  "nbformat": 4,
  "nbformat_minor": 0,
  "metadata": {
    "colab": {
      "provenance": [],
      "authorship_tag": "ABX9TyNld0wxKHlCUiGQQXs5or3e",
      "include_colab_link": true
    },
    "kernelspec": {
      "name": "python3",
      "display_name": "Python 3"
    },
    "language_info": {
      "name": "python"
    }
  },
  "cells": [
    {
      "cell_type": "markdown",
      "metadata": {
        "id": "view-in-github",
        "colab_type": "text"
      },
      "source": [
        "<a href=\"https://colab.research.google.com/github/josefernandezest98/training/blob/main/PySpark_Training/pyspark_training_notebook.ipynb\" target=\"_parent\"><img src=\"https://colab.research.google.com/assets/colab-badge.svg\" alt=\"Open In Colab\"/></a>"
      ]
    },
    {
      "cell_type": "markdown",
      "source": [
        "# **PySpark Training Notebook**"
      ],
      "metadata": {
        "id": "tjRbkfzO1vL3"
      }
    },
    {
      "cell_type": "markdown",
      "source": [
        "## Apache Spark Introduction"
      ],
      "metadata": {
        "id": "0RMinAf-BDtD"
      }
    },
    {
      "cell_type": "markdown",
      "source": [
        "Spark is currently one of the most popular tools for big data analytics. Hadoop (another big data analytics tool) is a slightly older technology, although still in use by some companies. Spark is generally faster than Hadoop, which is why Spark has become more popular over the last few years.\n",
        "\n",
        "There are many other big data tools and systems, each with its own use case. For example, there are database system like Apache Cassandra and SQL query engines like Presto. But Spark is still one of the most popular tools for analyzing large data sets.\n",
        "\n",
        "**Why Spark?**\n",
        "\n",
        "Spark is meant for big data sets that cannot fit on one computer. But you don't need Spark if you are working on smaller data sets. In the cases of data sets that can fit on your local computer, there are many other options out there you can use to manipulate data. For example:\n",
        "\n",
        "* AWK: command line tool for manipulating text files.\n",
        "* R: programming language and software environment for statistical computing.\n",
        "* Python data libraries, which include Pandas, Matplotlib, NumPy, and scikit-learn among other libraries.\n",
        "\n",
        "**Spark's limitations**\n",
        "\n",
        "Spark Streaming’s latency is at least 500 milliseconds since it operates on micro-batches of records, instead of processing one record at a time. Native streaming tools such as Storm, Apex, or Flink can push down this latency value and might be more suitable for low-latency applications. Flink and Apex can be used for batch computation as well, so if you're already using them for stream processing, there's no need to add Spark to your stack of technologies.\n",
        "\n",
        "Another limitation of Spark is its selection of machine learning algorithms. Currently, Spark only supports algorithms that scale linearly with the input data size. In general, deep learning is not available either, though there are many projects that integrate Spark with Tensorflow and other deep learning tools.\n",
        "\n",
        "**The Spark Cluster**\n",
        "\n",
        "When we talk about distributed computing, we generally refer to a big computational job executing across a cluster of nodes. Each node is responsible for a set of operations on a subset of the data. At the end, we combine these partial results to get the final answer. There are four different modes to setup Spark:\n",
        "\n",
        "* Local mode: In this case, everything happens on a single machine. So, while we use spark's APIs, we don't really do any distributed computing. The local mode can be useful to learn syntax and to prototype your project.\n",
        "\n",
        "The other three modes are distributed and declare a cluster manager. The cluster manager is a separate process that monitors available resources and makes sure that all machines are responsive during the job. There are three different options of cluster managers:\n",
        "\n",
        "* Spark's own Standalone Customer Manager. In Spark's Standalone mode there is a Driver Process. If you open a Spark shell, either Python or Scala, you are directly interacting with the driver program. It acts as the master and is responsible for scheduling tasks\n",
        "* YARN from the Hadoop project.\n",
        "* Another open-source manager from UC Berkeley's AMPLab Coordinators.\n",
        "\n"
      ],
      "metadata": {
        "id": "8dksfXOI2E3A"
      }
    },
    {
      "cell_type": "markdown",
      "source": [
        "## PySpark"
      ],
      "metadata": {
        "id": "B7sTbyBI8v9v"
      }
    },
    {
      "cell_type": "markdown",
      "source": [
        "**What is PySpark?**\n",
        "\n",
        "PySpark is the Python API for Apache Spark, an open source, distributed computing framework and set of libraries for real-time, large-scale data processing. If you’re already familiar with Python and libraries such as Pandas, then PySpark is a good language to learn to create more scalable analyses and pipelines. PySpark gives you access to all the important Spark data constructs like:\n",
        "\n",
        "* RDDs.\n",
        "* DataFrames.\n",
        "* Spark SQL.\n",
        "\n",
        "That means you can write Spark code that runs in either a Spark Cluster, in a Jupyter Notebook, or on your laptop. When you write code on your Jupyter Notebook or a laptop, Spark creates a temporary Spark node that runs locally. Because Spark uses Java, it is necessary to install the JDK (Java Development Kit) on a computer used to run PySpark code.\n",
        "\n",
        "**PySpark DataFrames**\n",
        "\n",
        "The key data type used in PySpark is the Spark dataframe. This object can be thought of as a table distributed across a cluster, and has functionality that is similar to dataframes in R and Pandas. If you want to do distributed computation using PySpark, then you’ll need to perform operations on Spark dataframes and not other Python data types."
      ],
      "metadata": {
        "id": "R5zN2hblDTn-"
      }
    },
    {
      "cell_type": "markdown",
      "source": [
        "### 0. Instalation"
      ],
      "metadata": {
        "id": "RdDAJ7jODoUW"
      }
    },
    {
      "cell_type": "code",
      "source": [
        "# Comment the whole cell line once pyspark has been instalated in your environment\n",
        "# !pip install pyspark"
      ],
      "metadata": {
        "colab": {
          "base_uri": "https://localhost:8080/"
        },
        "id": "XGQVcimx2kIG",
        "outputId": "356a225f-001b-451c-9896-d8091b1b916c"
      },
      "execution_count": 2,
      "outputs": [
        {
          "output_type": "stream",
          "name": "stdout",
          "text": [
            "Collecting pyspark\n",
            "  Downloading pyspark-3.4.1.tar.gz (310.8 MB)\n",
            "\u001b[2K     \u001b[90m━━━━━━━━━━━━━━━━━━━━━━━━━━━━━━━━━━━━━━━\u001b[0m \u001b[32m310.8/310.8 MB\u001b[0m \u001b[31m4.2 MB/s\u001b[0m eta \u001b[36m0:00:00\u001b[0m\n",
            "\u001b[?25h  Preparing metadata (setup.py) ... \u001b[?25l\u001b[?25hdone\n",
            "Requirement already satisfied: py4j==0.10.9.7 in /usr/local/lib/python3.10/dist-packages (from pyspark) (0.10.9.7)\n",
            "Building wheels for collected packages: pyspark\n",
            "  Building wheel for pyspark (setup.py) ... \u001b[?25l\u001b[?25hdone\n",
            "  Created wheel for pyspark: filename=pyspark-3.4.1-py2.py3-none-any.whl size=311285387 sha256=dd1dedbc79294d1742ff412ebc7a9e619d45655360fe819a5d108228d2b34d24\n",
            "  Stored in directory: /root/.cache/pip/wheels/0d/77/a3/ff2f74cc9ab41f8f594dabf0579c2a7c6de920d584206e0834\n",
            "Successfully built pyspark\n",
            "Installing collected packages: pyspark\n",
            "Successfully installed pyspark-3.4.1\n"
          ]
        }
      ]
    },
    {
      "cell_type": "markdown",
      "source": [
        "### 1. Introduction to distributed data"
      ],
      "metadata": {
        "id": "pKQASTFyKSFU"
      }
    },
    {
      "cell_type": "markdown",
      "source": [
        "The first component of each Spark Program is the *SparkContext*. The *SparkContext* is the main entry point for Spark functionality and connects the cluster with the application.\n",
        "\n",
        "To create a *SparkContext*, we first need a *SparkConf* object to specify some information about the application such as its name and the master's nodes' IP address. If we run Spark in local mode, we can just put the string local as master.\n",
        "\n",
        "To read data frames, we need to use Spark SQL equivalent, the *SparkSession*.\n",
        "Similarity to the *SparkConf*, we can specify some parameters to create a *SparkSession*.\n",
        "\n",
        "*getOrCreate()* for example, means that if you already have a *SparkSession* running, instead of creating a new one, the old one will be returned and its parameters will be modified to the new configurations."
      ],
      "metadata": {
        "id": "ePTZi09sHt5k"
      }
    },
    {
      "cell_type": "code",
      "source": [
        "from pyspark.sql import SparkSession\n",
        "\n",
        "# Because we aren't running on a spark cluster, the session is just for development\n",
        "spark = SparkSession \\\n",
        "    .builder \\\n",
        "    .appName(\"PySpark Training\") \\\n",
        "    .getOrCreate()"
      ],
      "metadata": {
        "id": "Fas6rI1z8hn5"
      },
      "execution_count": 3,
      "outputs": []
    },
    {
      "cell_type": "markdown",
      "source": [
        "* **Resilient Distributed Dataset (RDD)**\n",
        "\n",
        "A Resilient Distributed Dataset (RDD) is a low-level API and Spark's underlying data abstraction. An RDD is a static set of items distributed across clusters to allow parallel processing. The data structure stores any Python, Java, Scala, or user-created object. An RDD stores data in read-only mode, making it immutable. Performing operations on existing RDDs creates new objects without manipulating existing data.\n",
        "\n",
        "RDDs reside in RAM through a caching process. Data that does not fit is either recalculated to reduce the size or stored on a permanent storage. Caching allows retrieving data without reading from disk, reducing disk overhead. RDDs further distribute the data storage across multiple partitions. Partitioning allows data recovery in case a node fails and ensures the data is available at all times.\n",
        "\n",
        "The main features of a Spark RDD are:\n",
        "\n",
        "* **In-memory computation**: data calculation resides in memory for faster access and fewer I/O operations.\n",
        "* **Fault tolerance**: the tracking of data creation helps recover or recreate lost data after a node failure.\n",
        "* **Immutability**: RDDs are read-only. The existing data cannot change, and transformations on existing data generate new RDDs.\n",
        "* **Lazy evaluation**: data does not load immediately after definition, the data loads when applying an action to the data."
      ],
      "metadata": {
        "id": "6Bcy7I_bRUPd"
      }
    },
    {
      "cell_type": "markdown",
      "source": [
        "For example, let's create a Python List with some football players from the Italian national team."
      ],
      "metadata": {
        "id": "3bG4scJg1rbK"
      }
    },
    {
      "cell_type": "code",
      "source": [
        "# FIFA players list\n",
        "fifa_players = [\n",
        "        \"Gianluigi Buffon\",\n",
        "        \"Andrea Barzagli\",\n",
        "        \"Giorgio Chiellini\",\n",
        "        \"Leonardo Bonucci\",\n",
        "        \"Claudio Marchisio\",\n",
        "        \"Marco Verratti\",\n",
        "        \"Lorenzo Insigne\",\n",
        "        \"Andrea Immobile\"\n",
        "]"
      ],
      "metadata": {
        "id": "vmyAogTCRQ1G"
      },
      "execution_count": 4,
      "outputs": []
    },
    {
      "cell_type": "markdown",
      "source": [
        "After some initialization, we'll convert the FIFA players list (just a normal Python list) to a distributed dataset that Spark can use (RDD). This uses a special *spark.sparkContext* object. The Spark Context has a method *parallelize* that takes a Python object and distributes the object across the machines in your cluster so Spark can process the dataset."
      ],
      "metadata": {
        "id": "XlofcFPHJm9O"
      }
    },
    {
      "cell_type": "code",
      "source": [
        "distributed_fifa_players = spark.sparkContext.parallelize(fifa_players)"
      ],
      "metadata": {
        "id": "fVGjiv9h9CLg"
      },
      "execution_count": 5,
      "outputs": []
    },
    {
      "cell_type": "markdown",
      "source": [
        "Once this small dataset is accessible to Spark, we want to do something with it. One example is simply converting the song title to a uppercase, a common pre-processing step to standardize your data."
      ],
      "metadata": {
        "id": "sXHc8F06MhMQ"
      }
    },
    {
      "cell_type": "code",
      "source": [
        "distributed_fifa_players.map(lambda player: player.upper())"
      ],
      "metadata": {
        "colab": {
          "base_uri": "https://localhost:8080/"
        },
        "id": "BNclae4KMuOZ",
        "outputId": "dfaff36a-2744-4a5d-998c-d9039c9cae4f"
      },
      "execution_count": 6,
      "outputs": [
        {
          "output_type": "execute_result",
          "data": {
            "text/plain": [
              "PythonRDD[1] at RDD at PythonRDD.scala:53"
            ]
          },
          "metadata": {},
          "execution_count": 6
        }
      ]
    },
    {
      "cell_type": "markdown",
      "source": [
        "All of these steps will appear to run instantly but remember, the spark commands are using lazy evaluation, they haven't really converted the players to uppercase yet. Spark will procrastinate in transforming the songs to uppercase since you might have several other processing steps like removing punctuation, Spark wants to wait until the last minute to see if it can streamline its work, and combine these into a single stage.\n",
        "\n",
        "If we want to force Spark to take some action on the data, we can use the *collect* function, which gathers the results from all of the machines in our cluster.\n",
        "\n",
        "*collect* is an action operation that is used to retrieve all the elements of the dataset (from all nodes) to the driver node. We should use the *collect* on smaller dataset usually after *filter*, *group* e.t.c. Retrieving larger datasets results in *OutOfMemory* error."
      ],
      "metadata": {
        "id": "jq6kQwM1L9Ry"
      }
    },
    {
      "cell_type": "code",
      "source": [
        "distributed_fifa_players.map(lambda player: player.upper()).collect()"
      ],
      "metadata": {
        "colab": {
          "base_uri": "https://localhost:8080/"
        },
        "id": "PmadAFXUNSmJ",
        "outputId": "552d07d7-8fa3-4111-c43a-e2a5bf755daf"
      },
      "execution_count": 7,
      "outputs": [
        {
          "output_type": "execute_result",
          "data": {
            "text/plain": [
              "['GIANLUIGI BUFFON',\n",
              " 'ANDREA BARZAGLI',\n",
              " 'GIORGIO CHIELLINI',\n",
              " 'LEONARDO BONUCCI',\n",
              " 'CLAUDIO MARCHISIO',\n",
              " 'MARCO VERRATTI',\n",
              " 'LORENZO INSIGNE',\n",
              " 'ANDREA IMMOBILE']"
            ]
          },
          "metadata": {},
          "execution_count": 7
        }
      ]
    },
    {
      "cell_type": "markdown",
      "source": [
        "* **PySpark DataFrame**"
      ],
      "metadata": {
        "id": "cLpPxTQAa0qs"
      }
    },
    {
      "cell_type": "markdown",
      "source": [
        "As we have seen before, the key data type used in PySpark is the Spark dataframe. Spark dataframes are distributed collections of data that can be run on multiple machines and organize data into named columns.\n",
        "\n",
        "In an attempt to dig deeper into the PySpark structure of DataFrame, we are going to create a table with several football players of the Italian national team."
      ],
      "metadata": {
        "id": "ysDFeuRN4SAX"
      }
    },
    {
      "cell_type": "markdown",
      "source": [
        "|number|firstName| lastName|  position|\n",
        "|:---|:-------------|:-----------|:------|\n",
        "|     1|Gianluigi|   Buffon|Goalkeeper|\n",
        "|     5|   Andrea| Barzagli|  Defender|\n",
        "|     8|  Claudio|Marchisio|Midfielder|\n",
        "|    11|    Marco| Verratti|Midfielder|\n",
        "|     9|     Ciro| Immobile| Attackant|"
      ],
      "metadata": {
        "id": "I5vLTvcEmtrA"
      }
    },
    {
      "cell_type": "code",
      "source": [
        "italy_team = [[1, 'Gianluigi', 'Buffon', 'Goalkeeper'],\n",
        "              [5, 'Andrea', 'Barzagli', 'Defender'],\n",
        "              [8, 'Claudio', 'Marchisio', 'Midfielder'],\n",
        "              [11, 'Marco', 'Verratti', 'Midfielder'],\n",
        "              [9, 'Ciro', 'Immobile', 'Attackant']]\n",
        "\n",
        "dframe = spark.createDataFrame(italy_team, [\"number\", \"firstName\", \"lastName\", \"position\"])\n",
        "dframe.show()"
      ],
      "metadata": {
        "colab": {
          "base_uri": "https://localhost:8080/"
        },
        "id": "MeiVpuyqF_pK",
        "outputId": "c8a5441b-02b9-412e-baf3-c698aa2810d4"
      },
      "execution_count": 8,
      "outputs": [
        {
          "output_type": "stream",
          "name": "stdout",
          "text": [
            "+------+---------+---------+----------+\n",
            "|number|firstName| lastName|  position|\n",
            "+------+---------+---------+----------+\n",
            "|     1|Gianluigi|   Buffon|Goalkeeper|\n",
            "|     5|   Andrea| Barzagli|  Defender|\n",
            "|     8|  Claudio|Marchisio|Midfielder|\n",
            "|    11|    Marco| Verratti|Midfielder|\n",
            "|     9|     Ciro| Immobile| Attackant|\n",
            "+------+---------+---------+----------+\n",
            "\n"
          ]
        }
      ]
    },
    {
      "cell_type": "markdown",
      "source": [
        "Imagine we want to select just the columns 'number' and 'firstName'. We can use the *select* statement, but it is very important to notice that we just get a display table, not a copy. Because of this, there is no space reserved in memory for any new object, it is just a new reference to the same object. If we modify one of both references, the second one will be applied with the same change. The PySpark *select* behaves in the same way as the SQL *SELECT* statement."
      ],
      "metadata": {
        "id": "BvTK58PB5Sb9"
      }
    },
    {
      "cell_type": "code",
      "source": [
        "dframe2 = dframe.select('number', 'firstName')\n",
        "dframe2.show()"
      ],
      "metadata": {
        "colab": {
          "base_uri": "https://localhost:8080/"
        },
        "id": "VrcDhYuFa3kE",
        "outputId": "174e6e4d-6110-4cc0-9c2f-6683e3f580ae"
      },
      "execution_count": 9,
      "outputs": [
        {
          "output_type": "stream",
          "name": "stdout",
          "text": [
            "+------+---------+\n",
            "|number|firstName|\n",
            "+------+---------+\n",
            "|     1|Gianluigi|\n",
            "|     5|   Andrea|\n",
            "|     8|  Claudio|\n",
            "|    11|    Marco|\n",
            "|     9|     Ciro|\n",
            "+------+---------+\n",
            "\n"
          ]
        }
      ]
    },
    {
      "cell_type": "markdown",
      "source": [
        "Now we are going to select the columns 'number' and 'lastName', and then join the both tables together with the *join* statement."
      ],
      "metadata": {
        "id": "qckSG5uO8Yg7"
      }
    },
    {
      "cell_type": "code",
      "source": [
        "dframe3 = dframe.select('number', 'lastName')\n",
        "\n",
        "dframe4 = dframe2.join(dframe3, on='number')\n",
        "dframe4.show()"
      ],
      "metadata": {
        "colab": {
          "base_uri": "https://localhost:8080/"
        },
        "id": "Mr6ODYB_7eKb",
        "outputId": "01c63b5e-7ceb-4922-cb8c-eda4fee35591"
      },
      "execution_count": 10,
      "outputs": [
        {
          "output_type": "stream",
          "name": "stdout",
          "text": [
            "+------+---------+---------+\n",
            "|number|firstName| lastName|\n",
            "+------+---------+---------+\n",
            "|     1|Gianluigi|   Buffon|\n",
            "|     5|   Andrea| Barzagli|\n",
            "|     8|  Claudio|Marchisio|\n",
            "|     9|     Ciro| Immobile|\n",
            "|    11|    Marco| Verratti|\n",
            "+------+---------+---------+\n",
            "\n"
          ]
        }
      ]
    },
    {
      "cell_type": "markdown",
      "source": [
        "In particular, the t-shirt number is unique, so we could consider the column 'number' as the PRIVATE KEY of both tables."
      ],
      "metadata": {
        "id": "_B6p0xENCzSm"
      }
    },
    {
      "cell_type": "code",
      "source": [
        "dframe4.where(dframe4.number == 1).show()\n",
        "dframe4.filter(dframe4.number == 1).show()"
      ],
      "metadata": {
        "colab": {
          "base_uri": "https://localhost:8080/"
        },
        "id": "xWEdR4n-DFXk",
        "outputId": "a77e9e4e-05a0-4b57-a02e-dc12263496bf"
      },
      "execution_count": 11,
      "outputs": [
        {
          "output_type": "stream",
          "name": "stdout",
          "text": [
            "+------+---------+--------+\n",
            "|number|firstName|lastName|\n",
            "+------+---------+--------+\n",
            "|     1|Gianluigi|  Buffon|\n",
            "+------+---------+--------+\n",
            "\n",
            "+------+---------+--------+\n",
            "|number|firstName|lastName|\n",
            "+------+---------+--------+\n",
            "|     1|Gianluigi|  Buffon|\n",
            "+------+---------+--------+\n",
            "\n"
          ]
        }
      ]
    },
    {
      "cell_type": "markdown",
      "source": [
        "**Operations:**\n",
        "* Add rows.\n",
        "* Add columns.\n",
        "* Delete rows.\n",
        "* Delete columns.\n",
        "* Concat DataFrames.\n",
        "* Change certain cells.\n",
        "\n",
        "We are going to practice over the original DataFrame: dframe."
      ],
      "metadata": {
        "id": "HeyqqwD7KKA1"
      }
    },
    {
      "cell_type": "markdown",
      "source": [
        "* *Add rows*: we want to add a new football player to the team, Roberto Baggio with number 10, as Atackant. If we wanted to add several rows, we would do it in the same way."
      ],
      "metadata": {
        "id": "djEu-0XzMHs8"
      }
    },
    {
      "cell_type": "code",
      "source": [
        "newRow = spark.createDataFrame([(10, 'Roberto', 'Baggio', 'Attackant')], [\"number\", \"firstName\", \"lastName\", \"position\"])\n",
        "appended = dframe.union(newRow)\n",
        "appended.show()"
      ],
      "metadata": {
        "colab": {
          "base_uri": "https://localhost:8080/"
        },
        "id": "BictyFitM3hz",
        "outputId": "5252d034-a499-483e-c263-ccb1cc47d6a0"
      },
      "execution_count": 13,
      "outputs": [
        {
          "output_type": "stream",
          "name": "stdout",
          "text": [
            "+------+---------+---------+----------+\n",
            "|number|firstName| lastName|  position|\n",
            "+------+---------+---------+----------+\n",
            "|     1|Gianluigi|   Buffon|Goalkeeper|\n",
            "|     5|   Andrea| Barzagli|  Defender|\n",
            "|     8|  Claudio|Marchisio|Midfielder|\n",
            "|    11|    Marco| Verratti|Midfielder|\n",
            "|     9|     Ciro| Immobile| Attackant|\n",
            "|    10|  Roberto|   Baggio| Attackant|\n",
            "+------+---------+---------+----------+\n",
            "\n"
          ]
        }
      ]
    },
    {
      "cell_type": "markdown",
      "source": [
        "* *Add columns:* we want to add a new column, the national team."
      ],
      "metadata": {
        "id": "pMJEv0YzNyqc"
      }
    },
    {
      "cell_type": "code",
      "source": [
        "from pyspark.sql.functions import lit\n",
        "appended2 = dframe.withColumn(\"nationalTeam\", lit(\"Italy\"))\n",
        "appended2.show()"
      ],
      "metadata": {
        "colab": {
          "base_uri": "https://localhost:8080/"
        },
        "id": "T12npIDKOSW6",
        "outputId": "78a9bddf-e39f-4c88-d1e6-4f6106e3d3a5"
      },
      "execution_count": 14,
      "outputs": [
        {
          "output_type": "stream",
          "name": "stdout",
          "text": [
            "+------+---------+---------+----------+------------+\n",
            "|number|firstName| lastName|  position|nationalTeam|\n",
            "+------+---------+---------+----------+------------+\n",
            "|     1|Gianluigi|   Buffon|Goalkeeper|       Italy|\n",
            "|     5|   Andrea| Barzagli|  Defender|       Italy|\n",
            "|     8|  Claudio|Marchisio|Midfielder|       Italy|\n",
            "|    11|    Marco| Verratti|Midfielder|       Italy|\n",
            "|     9|     Ciro| Immobile| Attackant|       Italy|\n",
            "+------+---------+---------+----------+------------+\n",
            "\n"
          ]
        }
      ]
    },
    {
      "cell_type": "markdown",
      "source": [
        "* *Delete rows:* Roberto Baggio is no longer an active player, so let´s remove his contanining row."
      ],
      "metadata": {
        "id": "52-vr6FIR5RJ"
      }
    },
    {
      "cell_type": "code",
      "source": [
        "appended.filter(appended.number != '10').show()"
      ],
      "metadata": {
        "colab": {
          "base_uri": "https://localhost:8080/"
        },
        "id": "AKzgZQgzSVNw",
        "outputId": "14ddf17f-8646-4d8b-b792-e7aee4ffee2b"
      },
      "execution_count": 15,
      "outputs": [
        {
          "output_type": "stream",
          "name": "stdout",
          "text": [
            "+------+---------+---------+----------+\n",
            "|number|firstName| lastName|  position|\n",
            "+------+---------+---------+----------+\n",
            "|     1|Gianluigi|   Buffon|Goalkeeper|\n",
            "|     5|   Andrea| Barzagli|  Defender|\n",
            "|     8|  Claudio|Marchisio|Midfielder|\n",
            "|    11|    Marco| Verratti|Midfielder|\n",
            "|     9|     Ciro| Immobile| Attackant|\n",
            "+------+---------+---------+----------+\n",
            "\n"
          ]
        }
      ]
    },
    {
      "cell_type": "markdown",
      "source": [
        "* *Delete columns:* the national team is redundant, every row contains the value 'Italy'. Therefore let's drop the 'country' column."
      ],
      "metadata": {
        "id": "5EUJY1ytj83m"
      }
    },
    {
      "cell_type": "code",
      "source": [
        "appended2.drop(appended2.nationalTeam).show()"
      ],
      "metadata": {
        "colab": {
          "base_uri": "https://localhost:8080/"
        },
        "id": "DrXzlUg-kN8N",
        "outputId": "7bb7c427-448c-4020-c2e0-54cf25e536ba"
      },
      "execution_count": 16,
      "outputs": [
        {
          "output_type": "stream",
          "name": "stdout",
          "text": [
            "+------+---------+---------+----------+\n",
            "|number|firstName| lastName|  position|\n",
            "+------+---------+---------+----------+\n",
            "|     1|Gianluigi|   Buffon|Goalkeeper|\n",
            "|     5|   Andrea| Barzagli|  Defender|\n",
            "|     8|  Claudio|Marchisio|Midfielder|\n",
            "|    11|    Marco| Verratti|Midfielder|\n",
            "|     9|     Ciro| Immobile| Attackant|\n",
            "+------+---------+---------+----------+\n",
            "\n"
          ]
        }
      ]
    },
    {
      "cell_type": "markdown",
      "source": [
        "* **PySpark SQL DataFrame**"
      ],
      "metadata": {
        "id": "EvpW7k963Npm"
      }
    },
    {
      "cell_type": "markdown",
      "source": [
        "DataFrames allows PySpark to query data using another way, like a SQL table. Notice the fact that this time the *join* method returns a new DataFrame, it is not a display like we have seen before. We could have done the same with the submodule *pyspark.sql*."
      ],
      "metadata": {
        "id": "lXKOBCsg3YH_"
      }
    },
    {
      "cell_type": "code",
      "source": [
        "dframe2.createOrReplaceTempView(\"fifa_table_1\")\n",
        "dframe3.createOrReplaceTempView(\"fifa_table_2\")\n",
        "\n",
        "spark.sql('''\n",
        "          SELECT fifa_table_1.number, firstName, lastName\n",
        "          FROM fifa_table_1 JOIN fifa_table_2\n",
        "          ON fifa_table_1.number = fifa_table_2.number\n",
        "          WHERE fifa_table_1.number == 1\n",
        "          '''\n",
        "          ).show()"
      ],
      "metadata": {
        "colab": {
          "base_uri": "https://localhost:8080/"
        },
        "id": "xn0qo4RT3aC3",
        "outputId": "3d6e7d2c-8431-4d00-c89d-2d5068a03a76"
      },
      "execution_count": 35,
      "outputs": [
        {
          "output_type": "stream",
          "name": "stdout",
          "text": [
            "+------+---------+--------+\n",
            "|number|firstName|lastName|\n",
            "+------+---------+--------+\n",
            "|     1|Gianluigi|  Buffon|\n",
            "+------+---------+--------+\n",
            "\n"
          ]
        }
      ]
    },
    {
      "cell_type": "markdown",
      "source": [
        "### 2. Reading a DataFrame"
      ],
      "metadata": {
        "id": "723sePDjJW3A"
      }
    },
    {
      "cell_type": "code",
      "source": [
        "!wget https://raw.githubusercontent.com/josefernandezest98/training/main/PySpark_Training/fifa17_players.csv"
      ],
      "metadata": {
        "id": "XsDpX1sRCVx9",
        "colab": {
          "base_uri": "https://localhost:8080/"
        },
        "outputId": "30ea464a-7e84-441c-b0fe-5b9465f1f41d"
      },
      "execution_count": 17,
      "outputs": [
        {
          "output_type": "stream",
          "name": "stdout",
          "text": [
            "--2023-08-28 04:56:52--  https://raw.githubusercontent.com/josefernandezest98/training/main/PySpark_Training/fifa17_players.csv\n",
            "Resolving raw.githubusercontent.com (raw.githubusercontent.com)... 185.199.108.133, 185.199.109.133, 185.199.110.133, ...\n",
            "Connecting to raw.githubusercontent.com (raw.githubusercontent.com)|185.199.108.133|:443... connected.\n",
            "HTTP request sent, awaiting response... 200 OK\n",
            "Length: 3930217 (3.7M) [text/plain]\n",
            "Saving to: ‘fifa17_players.csv’\n",
            "\n",
            "fifa17_players.csv  100%[===================>]   3.75M  --.-KB/s    in 0.04s   \n",
            "\n",
            "2023-08-28 04:56:53 (84.0 MB/s) - ‘fifa17_players.csv’ saved [3930217/3930217]\n",
            "\n"
          ]
        }
      ]
    },
    {
      "cell_type": "code",
      "source": [
        "fifa_df = spark.read.csv(\"fifa17_players.csv\", inferSchema = True, header = True)"
      ],
      "metadata": {
        "id": "Kaoqtdaobcs1"
      },
      "execution_count": 18,
      "outputs": []
    },
    {
      "cell_type": "code",
      "source": [
        "fifa_df.show(10)"
      ],
      "metadata": {
        "colab": {
          "base_uri": "https://localhost:8080/"
        },
        "id": "NzdXZHPKJ2BX",
        "outputId": "b313fed6-fba7-4c79-bf94-ce0082ae66af"
      },
      "execution_count": 18,
      "outputs": [
        {
          "output_type": "stream",
          "name": "stdout",
          "text": [
            "+------------------+-----------+-----------------+------------+--------------+-------------+--------+------------+---------------+------+------+------+--------------+----------+---+------------------+---------------+---------+-----------+------------+---------+-------+--------------+---------------+----------+---------+------------------+-------------+------+---------+--------+----------+---------+------------+-----+-------+--------+-------+-------+-------+-------+----------+---------+----------+-----+-----------------+---------+-------+--------------+---------+----------+-----------+-----------+\n",
            "|              Name|Nationality|National_Position|National_Kit|          Club|Club_Position|Club_Kit|Club_Joining|Contract_Expiry|Rating|Height|Weight|Preffered_Foot|Birth_Date|Age|Preffered_Position|      Work_Rate|Weak_foot|Skill_Moves|Ball_Control|Dribbling|Marking|Sliding_Tackle|Standing_Tackle|Aggression|Reactions|Attacking_Position|Interceptions|Vision|Composure|Crossing|Short_Pass|Long_Pass|Acceleration|Speed|Stamina|Strength|Balance|Agility|Jumping|Heading|Shot_Power|Finishing|Long_Shots|Curve|Freekick_Accuracy|Penalties|Volleys|GK_Positioning|GK_Diving|GK_Kicking|GK_Handling|GK_Reflexes|\n",
            "+------------------+-----------+-----------------+------------+--------------+-------------+--------+------------+---------------+------+------+------+--------------+----------+---+------------------+---------------+---------+-----------+------------+---------+-------+--------------+---------------+----------+---------+------------------+-------------+------+---------+--------+----------+---------+------------+-----+-------+--------+-------+-------+-------+-------+----------+---------+----------+-----+-----------------+---------+-------+--------------+---------+----------+-----------+-----------+\n",
            "| Cristiano Ronaldo|   Portugal|               LS|         7.0|   Real Madrid|           LW|     7.0|  07/01/2009|         2021.0|    94|185 cm| 80 kg|         Right|02/05/1985| 32|             LW/ST|     High / Low|        4|          5|          93|       92|     22|            23|             31|        63|       96|                94|           29|    85|       86|      84|        83|       77|          91|   92|     92|      80|     63|     90|     95|     85|        92|       93|        90|   81|               76|       85|     88|            14|        7|        15|         11|         11|\n",
            "|      Lionel Messi|  Argentina|               RW|        10.0|  FC Barcelona|           RW|    10.0|  07/01/2004|         2018.0|    93|170 cm| 72 kg|          Left|06/24/1987| 29|                RW|Medium / Medium|        4|          4|          95|       97|     13|            26|             28|        48|       95|                93|           22|    90|       94|      77|        88|       87|          92|   87|     74|      59|     95|     90|     68|     71|        85|       95|        88|   89|               90|       74|     85|            14|        6|        15|         11|          8|\n",
            "|            Neymar|     Brazil|               LW|        10.0|  FC Barcelona|           LW|    11.0|  07/01/2013|         2021.0|    92|174 cm| 68 kg|         Right|02/05/1992| 25|                LW|  High / Medium|        5|          5|          95|       96|     21|            33|             24|        56|       88|                90|           36|    80|       80|      75|        81|       75|          93|   90|     79|      49|     82|     96|     61|     62|        78|       89|        77|   79|               84|       81|     83|            15|        9|        15|          9|         11|\n",
            "|       Luis Suárez|    Uruguay|               LS|         9.0|  FC Barcelona|           ST|     9.0|  07/11/2014|         2021.0|    92|182 cm| 85 kg|         Right|01/24/1987| 30|                ST|  High / Medium|        4|          4|          91|       86|     30|            38|             45|        78|       93|                92|           41|    84|       83|      77|        83|       64|          88|   77|     89|      76|     60|     86|     69|     77|        87|       94|        86|   86|               84|       85|     88|            33|       27|        31|         25|         37|\n",
            "|      Manuel Neuer|    Germany|               GK|         1.0|     FC Bayern|           GK|     1.0|  07/01/2011|         2021.0|    92|193 cm| 92 kg|         Right|03/27/1986| 31|                GK|Medium / Medium|        4|          1|          48|       30|     10|            11|             10|        29|       85|                12|           30|    70|       70|      15|        55|       59|          58|   61|     44|      83|     35|     52|     78|     25|        25|       13|        16|   14|               11|       47|     11|            91|       89|        95|         90|         89|\n",
            "|            De Gea|      Spain|               GK|         1.0|Manchester Utd|           GK|     1.0|  07/01/2011|         2019.0|    90|193 cm| 82 kg|         Right|11/07/1990| 26|                GK|Medium / Medium|        3|          1|          31|       13|     13|            13|             21|        38|       88|                12|           30|    68|       60|      17|        31|       32|          56|   56|     25|      64|     43|     57|     67|     21|        31|       13|        12|   21|               19|       40|     13|            86|       88|        87|         85|         90|\n",
            "|Robert Lewandowski|     Poland|               LS|         9.0|     FC Bayern|           ST|     9.0|  07/01/2014|         2021.0|    90|185 cm| 79 kg|         Right|08/21/1988| 28|                ST|  High / Medium|        4|          3|          87|       85|     25|            19|             42|        80|       88|                89|           39|    78|       87|      62|        83|       65|          79|   82|     79|      84|     79|     78|     84|     85|        86|       91|        82|   77|               76|       81|     86|             8|       15|        12|          6|         10|\n",
            "|       Gareth Bale|      Wales|               RS|        11.0|   Real Madrid|           RW|    11.0|  09/02/2013|         2022.0|    90|183 cm| 74 kg|          Left|07/16/1989| 27|                RW|  High / Medium|        3|          4|          88|       89|     51|            52|             55|        65|       87|                86|           59|    79|       85|      87|        86|       80|          93|   95|     78|      80|     65|     77|     85|     86|        91|       87|        90|   86|               85|       76|     76|             5|       15|        11|         15|          6|\n",
            "|Zlatan Ibrahimović|     Sweden|             null|        null|Manchester Utd|           ST|     9.0|  07/01/2016|         2017.0|    90|195 cm| 95 kg|         Right|10/03/1981| 35|                ST|   Medium / Low|        4|          4|          90|       87|     15|            27|             41|        84|       85|                86|           20|    83|       91|      76|        84|       76|          69|   74|     75|      93|     41|     86|     72|     80|        93|       90|        88|   82|               82|       91|     93|             9|       13|        10|         15|         12|\n",
            "|  Thibaut Courtois|    Belgium|               GK|         1.0|       Chelsea|           GK|    13.0|  07/26/2011|         2019.0|    89|199 cm| 91 kg|          Left|05/11/1992| 24|                GK|Medium / Medium|        3|          1|          23|       13|     11|            16|             18|        23|       81|                13|           15|    44|       52|      14|        32|       31|          46|   52|     38|      70|     45|     61|     68|     13|        36|       14|        17|   19|               11|       27|     12|            86|       84|        69|         91|         89|\n",
            "+------------------+-----------+-----------------+------------+--------------+-------------+--------+------------+---------------+------+------+------+--------------+----------+---+------------------+---------------+---------+-----------+------------+---------+-------+--------------+---------------+----------+---------+------------------+-------------+------+---------+--------+----------+---------+------------+-----+-------+--------+-------+-------+-------+-------+----------+---------+----------+-----+-----------------+---------+-------+--------------+---------+----------+-----------+-----------+\n",
            "only showing top 10 rows\n",
            "\n"
          ]
        }
      ]
    },
    {
      "cell_type": "markdown",
      "source": [
        "### 4. Data Visualization"
      ],
      "metadata": {
        "id": "KTKyFFHtwkt1"
      }
    },
    {
      "cell_type": "markdown",
      "source": [
        "### 5. Machine Learning"
      ],
      "metadata": {
        "id": "FKnkpzv8wpU1"
      }
    },
    {
      "cell_type": "markdown",
      "source": [
        "### **Exercise 1**\n",
        "Imagine you are a Data Scientist for FC Barcelona. PSG has made an offert for the football player Neymar, and you must find the player between the database wich fits better to supply Neymar. For that let's follow the next steps."
      ],
      "metadata": {
        "id": "BNojYrqmfUDV"
      }
    },
    {
      "cell_type": "markdown",
      "source": [
        "\n",
        "*  Find wich role plays in FC Barcelona the football player Neymar, selecting the column 'Club_Position' where the necessary conditions."
      ],
      "metadata": {
        "id": "BHV0l7Puhr_I"
      }
    },
    {
      "cell_type": "code",
      "source": [
        "fifa_df.select('Club_Position').where((fifa_df.Club == \"FC Barcelona\") & (fifa_df.Name == \"Neymar\")).show()"
      ],
      "metadata": {
        "colab": {
          "base_uri": "https://localhost:8080/"
        },
        "id": "Opn7X1HChwqh",
        "outputId": "e19383af-3c92-401b-ab5b-3ff44bb41613"
      },
      "execution_count": 19,
      "outputs": [
        {
          "output_type": "stream",
          "name": "stdout",
          "text": [
            "+-------------+\n",
            "|Club_Position|\n",
            "+-------------+\n",
            "|           LW|\n",
            "+-------------+\n",
            "\n"
          ]
        }
      ]
    },
    {
      "cell_type": "markdown",
      "source": [
        "Once we know Neymar plays in 'LW' position (Left Wing), our aim will consist of looking for the football player wich better fits in the team."
      ],
      "metadata": {
        "id": "DCHsn_UiiNqR"
      }
    },
    {
      "cell_type": "markdown",
      "source": [
        "* Create a table with *select* statement (not really creation, just display) with the available players to be chosen."
      ],
      "metadata": {
        "id": "YxceSmZZig5g"
      }
    },
    {
      "cell_type": "code",
      "source": [
        "available_players = fifa_df.where((fifa_df.Club_Position == \"LW\") & (fifa_df.Name != \"Neymar\"))\n",
        "available_players.show()"
      ],
      "metadata": {
        "colab": {
          "base_uri": "https://localhost:8080/"
        },
        "id": "Wd2VCncaQEAY",
        "outputId": "df976805-f03f-46ef-e075-c41ffd2453e4"
      },
      "execution_count": 20,
      "outputs": [
        {
          "output_type": "stream",
          "name": "stdout",
          "text": [
            "+-----------------+-----------+-----------------+------------+---------------+-------------+--------+------------+---------------+------+------+------+--------------+----------+---+------------------+---------------+---------+-----------+------------+---------+-------+--------------+---------------+----------+---------+------------------+-------------+------+---------+--------+----------+---------+------------+-----+-------+--------+-------+-------+-------+-------+----------+---------+----------+-----+-----------------+---------+-------+--------------+---------+----------+-----------+-----------+\n",
            "|             Name|Nationality|National_Position|National_Kit|           Club|Club_Position|Club_Kit|Club_Joining|Contract_Expiry|Rating|Height|Weight|Preffered_Foot|Birth_Date|Age|Preffered_Position|      Work_Rate|Weak_foot|Skill_Moves|Ball_Control|Dribbling|Marking|Sliding_Tackle|Standing_Tackle|Aggression|Reactions|Attacking_Position|Interceptions|Vision|Composure|Crossing|Short_Pass|Long_Pass|Acceleration|Speed|Stamina|Strength|Balance|Agility|Jumping|Heading|Shot_Power|Finishing|Long_Shots|Curve|Freekick_Accuracy|Penalties|Volleys|GK_Positioning|GK_Diving|GK_Kicking|GK_Handling|GK_Reflexes|\n",
            "+-----------------+-----------+-----------------+------------+---------------+-------------+--------+------------+---------------+------+------+------+--------------+----------+---+------------------+---------------+---------+-----------+------------+---------+-------+--------------+---------------+----------+---------+------------------+-------------+------+---------+--------+----------+---------+------------+-----+-------+--------+-------+-------+-------+-------+----------+---------+----------+-----+-----------------+---------+-------+--------------+---------+----------+-----------+-----------+\n",
            "|Cristiano Ronaldo|   Portugal|               LS|         7.0|    Real Madrid|           LW|     7.0|  07/01/2009|         2021.0|    94|185 cm| 80 kg|         Right|02/05/1985| 32|             LW/ST|     High / Low|        4|          5|          93|       92|     22|            23|             31|        63|       96|                94|           29|    85|       86|      84|        83|       77|          91|   92|     92|      80|     63|     90|     95|     85|        92|       93|        90|   81|               76|       85|     88|            14|        7|        15|         11|         11|\n",
            "|      Eden Hazard|    Belgium|               LF|        10.0|        Chelsea|           LW|    10.0|  07/01/2012|         2020.0|    89|173 cm| 74 kg|         Right|01/07/1991| 26|             LW/LM|  High / Medium|        4|          4|          91|       93|     25|            22|             27|        54|       85|                85|           41|    86|       86|      80|        84|       80|          93|   87|     77|      65|     90|     92|     59|     57|        79|       81|        82|   82|               79|       86|     79|             8|       11|         6|         12|          8|\n",
            "|       Marco Reus|    Germany|             null|        null|  Bor. Dortmund|           LW|    11.0|  07/01/2012|         2019.0|    88|182 cm| 76 kg|         Right|05/31/1989| 27|            LM/CAM|Medium / Medium|        4|          4|          85|       86|     30|            46|             36|        49|       87|                87|           50|    86|       82|      83|        86|       79|          89|   91|     73|      67|     82|     87|     72|     51|        87|       84|        85|   90|               84|       84|     88|            13|       12|        13|         12|         11|\n",
            "|         Coutinho|     Brazil|               RW|        11.0|      Liverpool|           LW|    10.0|  01/30/2013|         2022.0|    86|171 cm| 68 kg|         Right|06/12/1992| 24|            LW/CAM|    High / High|        4|          4|          88|       88|     24|            40|             44|        55|       81|                83|           30|    87|       79|      77|        85|       78|          89|   77|     79|      61|     91|     91|     59|     47|        79|       73|        85|   84|               79|       64|     75|            14|       12|         9|          7|          6|\n",
            "|    Dimitri Payet|     France|               LM|         8.0|Olym. Marseille|           LW|    11.0|  01/29/2017|         2021.0|    85|175 cm| 77 kg|         Right|03/29/1987| 30|             LM/LW|     High / Low|        4|          4|          90|       89|     29|            39|             36|        57|       76|                79|           37|    87|       86|      86|        86|       84|          79|   75|     73|      76|     81|     80|     48|     59|        78|       76|        83|   90|               91|       76|     79|            14|       11|         9|         15|         12|\n",
            "|  Lorenzo Insigne|      Italy|              Sub|        20.0|         Napoli|           LW|    24.0|  07/01/2010|         2019.0|    84|163 cm| 59 kg|         Right|06/04/1991| 25|                LW|  High / Medium|        3|          4|          90|       88|     16|            22|             24|        34|       80|                83|           26|    85|       72|      82|        81|       72|          94|   86|     77|      44|     93|     96|     55|     56|        68|       71|        79|   78|               75|       61|     74|             9|        8|        14|          4|         10|\n",
            "|   Julian Draxler|    Germany|               LM|         7.0|            PSG|           LW|    23.0|  01/03/2017|         2021.0|    83|187 cm| 72 kg|         Right|09/20/1993| 23|            CAM/LW|   Medium / Low|        5|          4|          85|       87|     25|            26|             35|        48|       81|                79|           36|    80|       78|      78|        83|       72|          77|   77|     69|      67|     75|     82|     76|     65|        84|       75|        81|   78|               72|       63|     84|            13|       11|         5|         13|          8|\n",
            "|             Nani|   Portugal|              Sub|        17.0|    Valencia CF|           LW|    17.0|  07/05/2016|         2019.0|    83|175 cm| 66 kg|         Right|11/17/1986| 30|         LW/CAM/LM|  High / Medium|        4|          5|          86|       87|     15|            20|             22|        62|       80|                77|           31|    80|       79|      82|        81|       79|          86|   79|     75|      62|     77|     92|     46|     46|        85|       75|        83|   86|               79|       72|     75|             6|        5|        13|         10|          6|\n",
            "|  Anthony Martial|     France|             null|        null| Manchester Utd|           LW|    11.0|  09/01/2015|         2019.0|    82|184 cm| 76 kg|         Right|12/05/1995| 21|             LM/ST|     High / Low|        4|          4|          84|       88|     35|            38|             39|        59|       81|                80|           42|    70|       80|      73|        75|       58|          92|   91|     80|      80|     85|     85|     80|     70|        84|       82|        72|   76|               54|       71|     74|            15|        9|         8|          8|         11|\n",
            "|      Oleg Shatov|     Russia|             null|        null|          Zenit|           LW|    17.0|  08/14/2013|         2020.0|    81|173 cm| 73 kg|         Right|07/29/1990| 26|             LM/RW|  High / Medium|        4|          4|          82|       82|     38|            42|             45|        70|       77|                78|           63|    81|       76|      74|        80|       72|          85|   90|     73|      66|     78|     83|     59|     55|        75|       75|        74|   77|               70|       60|     69|            12|       13|        10|          9|         14|\n",
            "|         Deulofeu|      Spain|              Sub|        14.0|          Milan|           LW|     7.0|  07/01/2015|         2018.0|    81|179 cm| 73 kg|         Right|03/13/1994| 23|             RM/LW|     High / Low|        4|          4|          86|       89|     20|            22|             30|        40|       77|                78|           25|    72|       66|      76|        78|       62|          89|   92|     76|      59|     77|     93|     72|     40|        68|       74|        65|   84|               75|       70|     60|            11|       12|        14|         16|         11|\n",
            "|       Leroy Sané|    Germany|              Sub|        19.0|Manchester City|           LW|    19.0|  08/02/2016|         2021.0|    80|184 cm| 76 kg|          Left|01/11/1996| 21|             LM/RM|  High / Medium|        3|          3|          83|       86|     26|            35|             32|        58|       79|                79|           32|    68|       74|      72|        75|       64|          92|   91|     80|      63|     82|     86|     66|     72|        78|       75|        77|   81|               62|       63|     64|             9|        8|         9|         12|         14|\n",
            "| Keita Baldé Diao|    Senegal|             null|        null|          Lazio|           LW|    14.0|  07/01/2013|         2018.0|    80|184 cm| 80 kg|         Right|03/08/1995| 22|             LW/ST|     High / Low|        4|          4|          88|       86|     17|            28|             29|        54|       74|                75|           31|    72|       69|      74|        76|       64|          90|   92|     75|      78|     77|     79|     66|     58|        75|       73|        72|   70|               52|       58|     68|             8|       12|        13|          8|         15|\n",
            "|  Younès Belhanda|    Morocco|             null|        null|       OGC Nice|           LW|     5.0|  06/30/2013|         2018.0|    80|177 cm| 75 kg|         Right|02/25/1990| 27|            LW/CAM|Medium / Medium|        4|          4|          83|       84|     49|            52|             54|        75|       79|                74|           66|    81|       70|      79|        83|       80|          77|   73|     79|      63|     77|     87|     74|     67|        78|       73|        81|   78|               78|       80|     69|             6|       15|        11|         16|         16|\n",
            "|    Memphis Depay|Netherlands|              Sub|        21.0| Olym. Lyonnais|           LW|     9.0|  01/20/2017|         2021.0|    79|176 cm| 78 kg|         Right|02/13/1994| 23|             LM/LW|     High / Low|        2|          4|          80|       85|     24|            20|             31|        62|       77|                75|           31|    73|       67|      67|        73|       63|          91|   89|     78|      80|     83|     83|     74|     55|        88|       72|        81|   85|               90|       66|     69|            12|        8|         6|         14|         10|\n",
            "|      Dušan Tadić|     Serbia|             null|        null|    Southampton|           LW|    11.0|  07/08/2014|         2020.0|    79|181 cm| 76 kg|          Left|11/20/1988| 28|            LM/CAM|Medium / Medium|        2|          4|          85|       83|     40|            26|             34|        56|       80|                73|           31|    84|       78|      79|        81|       77|          72|   70|     73|      64|     77|     81|     65|     63|        69|       65|        66|   83|               76|       80|     73|             9|       11|        14|         11|         16|\n",
            "|      Adem Ljajić|     Serbia|             null|        null|         Torino|           LW|    10.0|  07/19/2016|         2020.0|    79|182 cm| 74 kg|         Right|09/29/1991| 25|             LW/RW|  High / Medium|        4|          4|          86|       84|     23|            35|             35|        44|       75|                78|           32|    78|       75|      74|        78|       68|          83|   79|     69|      65|     79|     81|     63|     48|        76|       72|        78|   80|               79|       75|     74|             6|        6|         7|         14|         12|\n",
            "|        Oyarzabal|      Spain|             null|        null|  Real Sociedad|           LW|    18.0|  07/01/2014|         2022.0|    78|181 cm| 78 kg|          Left|04/21/1997| 19|             LW/ST|  High / Medium|        3|          3|          82|       81|     35|            30|             32|        40|       81|                80|           29|    75|       56|      79|        76|       69|          72|   73|     70|      59|     69|     71|     59|     44|        73|       73|        75|   63|               53|       47|     64|            13|       10|        10|          6|         11|\n",
            "|   José Izquierdo|   Colombia|             null|        null|    Club Brugge|           LW|    11.0|  08/30/2014|         2019.0|    78|171 cm| 75 kg|         Right|07/07/1992| 24|                LW|  High / Medium|        3|          4|          78|       83|     18|            15|             21|        27|       71|                75|           37|    72|       73|      70|        69|       63|          94|   93|     84|      63|     83|     90|     72|     60|        78|       71|        77|   75|               34|       58|     54|             7|       13|        12|          8|         13|\n",
            "|    Theo Bongonda|    Belgium|             null|        null|     Celta Vigo|           LW|     7.0|  01/09/2015|         2019.0|    78|177 cm| 71 kg|          Left|11/20/1995| 21|             LW/RW|Medium / Medium|        3|          4|          81|       80|     17|            29|             30|        30|       80|                77|           30|    73|       61|      78|        77|       61|          85|   83|     59|      54|     75|     86|     63|     39|        79|       69|        67|   64|               63|       57|     58|            15|       12|         9|         15|          7|\n",
            "+-----------------+-----------+-----------------+------------+---------------+-------------+--------+------------+---------------+------+------+------+--------------+----------+---+------------------+---------------+---------+-----------+------------+---------+-------+--------------+---------------+----------+---------+------------------+-------------+------+---------+--------+----------+---------+------------+-----+-------+--------+-------+-------+-------+-------+----------+---------+----------+-----+-----------------+---------+-------+--------------+---------+----------+-----------+-----------+\n",
            "only showing top 20 rows\n",
            "\n"
          ]
        }
      ]
    },
    {
      "cell_type": "markdown",
      "source": [
        "Moreover, FC Barcelona is a football team with great status. Because of that, we must filter with the football players rated over 75.\n",
        "\n",
        "* Filter the database with column 'Rating' over 75."
      ],
      "metadata": {
        "id": "svKouggbjkrA"
      }
    },
    {
      "cell_type": "code",
      "source": [
        "available_players_filtered = available_players.where(available_players.Rating >= 75)\n",
        "available_players_filtered.show()"
      ],
      "metadata": {
        "colab": {
          "base_uri": "https://localhost:8080/"
        },
        "id": "eIvAkn0gf_TE",
        "outputId": "53aab41f-bdc8-4f3c-cffe-99887fef7b42"
      },
      "execution_count": 21,
      "outputs": [
        {
          "output_type": "stream",
          "name": "stdout",
          "text": [
            "+-----------------+-----------+-----------------+------------+---------------+-------------+--------+------------+---------------+------+------+------+--------------+----------+---+------------------+---------------+---------+-----------+------------+---------+-------+--------------+---------------+----------+---------+------------------+-------------+------+---------+--------+----------+---------+------------+-----+-------+--------+-------+-------+-------+-------+----------+---------+----------+-----+-----------------+---------+-------+--------------+---------+----------+-----------+-----------+\n",
            "|             Name|Nationality|National_Position|National_Kit|           Club|Club_Position|Club_Kit|Club_Joining|Contract_Expiry|Rating|Height|Weight|Preffered_Foot|Birth_Date|Age|Preffered_Position|      Work_Rate|Weak_foot|Skill_Moves|Ball_Control|Dribbling|Marking|Sliding_Tackle|Standing_Tackle|Aggression|Reactions|Attacking_Position|Interceptions|Vision|Composure|Crossing|Short_Pass|Long_Pass|Acceleration|Speed|Stamina|Strength|Balance|Agility|Jumping|Heading|Shot_Power|Finishing|Long_Shots|Curve|Freekick_Accuracy|Penalties|Volleys|GK_Positioning|GK_Diving|GK_Kicking|GK_Handling|GK_Reflexes|\n",
            "+-----------------+-----------+-----------------+------------+---------------+-------------+--------+------------+---------------+------+------+------+--------------+----------+---+------------------+---------------+---------+-----------+------------+---------+-------+--------------+---------------+----------+---------+------------------+-------------+------+---------+--------+----------+---------+------------+-----+-------+--------+-------+-------+-------+-------+----------+---------+----------+-----+-----------------+---------+-------+--------------+---------+----------+-----------+-----------+\n",
            "|Cristiano Ronaldo|   Portugal|               LS|         7.0|    Real Madrid|           LW|     7.0|  07/01/2009|         2021.0|    94|185 cm| 80 kg|         Right|02/05/1985| 32|             LW/ST|     High / Low|        4|          5|          93|       92|     22|            23|             31|        63|       96|                94|           29|    85|       86|      84|        83|       77|          91|   92|     92|      80|     63|     90|     95|     85|        92|       93|        90|   81|               76|       85|     88|            14|        7|        15|         11|         11|\n",
            "|      Eden Hazard|    Belgium|               LF|        10.0|        Chelsea|           LW|    10.0|  07/01/2012|         2020.0|    89|173 cm| 74 kg|         Right|01/07/1991| 26|             LW/LM|  High / Medium|        4|          4|          91|       93|     25|            22|             27|        54|       85|                85|           41|    86|       86|      80|        84|       80|          93|   87|     77|      65|     90|     92|     59|     57|        79|       81|        82|   82|               79|       86|     79|             8|       11|         6|         12|          8|\n",
            "|       Marco Reus|    Germany|             null|        null|  Bor. Dortmund|           LW|    11.0|  07/01/2012|         2019.0|    88|182 cm| 76 kg|         Right|05/31/1989| 27|            LM/CAM|Medium / Medium|        4|          4|          85|       86|     30|            46|             36|        49|       87|                87|           50|    86|       82|      83|        86|       79|          89|   91|     73|      67|     82|     87|     72|     51|        87|       84|        85|   90|               84|       84|     88|            13|       12|        13|         12|         11|\n",
            "|         Coutinho|     Brazil|               RW|        11.0|      Liverpool|           LW|    10.0|  01/30/2013|         2022.0|    86|171 cm| 68 kg|         Right|06/12/1992| 24|            LW/CAM|    High / High|        4|          4|          88|       88|     24|            40|             44|        55|       81|                83|           30|    87|       79|      77|        85|       78|          89|   77|     79|      61|     91|     91|     59|     47|        79|       73|        85|   84|               79|       64|     75|            14|       12|         9|          7|          6|\n",
            "|    Dimitri Payet|     France|               LM|         8.0|Olym. Marseille|           LW|    11.0|  01/29/2017|         2021.0|    85|175 cm| 77 kg|         Right|03/29/1987| 30|             LM/LW|     High / Low|        4|          4|          90|       89|     29|            39|             36|        57|       76|                79|           37|    87|       86|      86|        86|       84|          79|   75|     73|      76|     81|     80|     48|     59|        78|       76|        83|   90|               91|       76|     79|            14|       11|         9|         15|         12|\n",
            "|  Lorenzo Insigne|      Italy|              Sub|        20.0|         Napoli|           LW|    24.0|  07/01/2010|         2019.0|    84|163 cm| 59 kg|         Right|06/04/1991| 25|                LW|  High / Medium|        3|          4|          90|       88|     16|            22|             24|        34|       80|                83|           26|    85|       72|      82|        81|       72|          94|   86|     77|      44|     93|     96|     55|     56|        68|       71|        79|   78|               75|       61|     74|             9|        8|        14|          4|         10|\n",
            "|   Julian Draxler|    Germany|               LM|         7.0|            PSG|           LW|    23.0|  01/03/2017|         2021.0|    83|187 cm| 72 kg|         Right|09/20/1993| 23|            CAM/LW|   Medium / Low|        5|          4|          85|       87|     25|            26|             35|        48|       81|                79|           36|    80|       78|      78|        83|       72|          77|   77|     69|      67|     75|     82|     76|     65|        84|       75|        81|   78|               72|       63|     84|            13|       11|         5|         13|          8|\n",
            "|             Nani|   Portugal|              Sub|        17.0|    Valencia CF|           LW|    17.0|  07/05/2016|         2019.0|    83|175 cm| 66 kg|         Right|11/17/1986| 30|         LW/CAM/LM|  High / Medium|        4|          5|          86|       87|     15|            20|             22|        62|       80|                77|           31|    80|       79|      82|        81|       79|          86|   79|     75|      62|     77|     92|     46|     46|        85|       75|        83|   86|               79|       72|     75|             6|        5|        13|         10|          6|\n",
            "|  Anthony Martial|     France|             null|        null| Manchester Utd|           LW|    11.0|  09/01/2015|         2019.0|    82|184 cm| 76 kg|         Right|12/05/1995| 21|             LM/ST|     High / Low|        4|          4|          84|       88|     35|            38|             39|        59|       81|                80|           42|    70|       80|      73|        75|       58|          92|   91|     80|      80|     85|     85|     80|     70|        84|       82|        72|   76|               54|       71|     74|            15|        9|         8|          8|         11|\n",
            "|      Oleg Shatov|     Russia|             null|        null|          Zenit|           LW|    17.0|  08/14/2013|         2020.0|    81|173 cm| 73 kg|         Right|07/29/1990| 26|             LM/RW|  High / Medium|        4|          4|          82|       82|     38|            42|             45|        70|       77|                78|           63|    81|       76|      74|        80|       72|          85|   90|     73|      66|     78|     83|     59|     55|        75|       75|        74|   77|               70|       60|     69|            12|       13|        10|          9|         14|\n",
            "|         Deulofeu|      Spain|              Sub|        14.0|          Milan|           LW|     7.0|  07/01/2015|         2018.0|    81|179 cm| 73 kg|         Right|03/13/1994| 23|             RM/LW|     High / Low|        4|          4|          86|       89|     20|            22|             30|        40|       77|                78|           25|    72|       66|      76|        78|       62|          89|   92|     76|      59|     77|     93|     72|     40|        68|       74|        65|   84|               75|       70|     60|            11|       12|        14|         16|         11|\n",
            "|       Leroy Sané|    Germany|              Sub|        19.0|Manchester City|           LW|    19.0|  08/02/2016|         2021.0|    80|184 cm| 76 kg|          Left|01/11/1996| 21|             LM/RM|  High / Medium|        3|          3|          83|       86|     26|            35|             32|        58|       79|                79|           32|    68|       74|      72|        75|       64|          92|   91|     80|      63|     82|     86|     66|     72|        78|       75|        77|   81|               62|       63|     64|             9|        8|         9|         12|         14|\n",
            "| Keita Baldé Diao|    Senegal|             null|        null|          Lazio|           LW|    14.0|  07/01/2013|         2018.0|    80|184 cm| 80 kg|         Right|03/08/1995| 22|             LW/ST|     High / Low|        4|          4|          88|       86|     17|            28|             29|        54|       74|                75|           31|    72|       69|      74|        76|       64|          90|   92|     75|      78|     77|     79|     66|     58|        75|       73|        72|   70|               52|       58|     68|             8|       12|        13|          8|         15|\n",
            "|  Younès Belhanda|    Morocco|             null|        null|       OGC Nice|           LW|     5.0|  06/30/2013|         2018.0|    80|177 cm| 75 kg|         Right|02/25/1990| 27|            LW/CAM|Medium / Medium|        4|          4|          83|       84|     49|            52|             54|        75|       79|                74|           66|    81|       70|      79|        83|       80|          77|   73|     79|      63|     77|     87|     74|     67|        78|       73|        81|   78|               78|       80|     69|             6|       15|        11|         16|         16|\n",
            "|    Memphis Depay|Netherlands|              Sub|        21.0| Olym. Lyonnais|           LW|     9.0|  01/20/2017|         2021.0|    79|176 cm| 78 kg|         Right|02/13/1994| 23|             LM/LW|     High / Low|        2|          4|          80|       85|     24|            20|             31|        62|       77|                75|           31|    73|       67|      67|        73|       63|          91|   89|     78|      80|     83|     83|     74|     55|        88|       72|        81|   85|               90|       66|     69|            12|        8|         6|         14|         10|\n",
            "|      Dušan Tadić|     Serbia|             null|        null|    Southampton|           LW|    11.0|  07/08/2014|         2020.0|    79|181 cm| 76 kg|          Left|11/20/1988| 28|            LM/CAM|Medium / Medium|        2|          4|          85|       83|     40|            26|             34|        56|       80|                73|           31|    84|       78|      79|        81|       77|          72|   70|     73|      64|     77|     81|     65|     63|        69|       65|        66|   83|               76|       80|     73|             9|       11|        14|         11|         16|\n",
            "|      Adem Ljajić|     Serbia|             null|        null|         Torino|           LW|    10.0|  07/19/2016|         2020.0|    79|182 cm| 74 kg|         Right|09/29/1991| 25|             LW/RW|  High / Medium|        4|          4|          86|       84|     23|            35|             35|        44|       75|                78|           32|    78|       75|      74|        78|       68|          83|   79|     69|      65|     79|     81|     63|     48|        76|       72|        78|   80|               79|       75|     74|             6|        6|         7|         14|         12|\n",
            "|        Oyarzabal|      Spain|             null|        null|  Real Sociedad|           LW|    18.0|  07/01/2014|         2022.0|    78|181 cm| 78 kg|          Left|04/21/1997| 19|             LW/ST|  High / Medium|        3|          3|          82|       81|     35|            30|             32|        40|       81|                80|           29|    75|       56|      79|        76|       69|          72|   73|     70|      59|     69|     71|     59|     44|        73|       73|        75|   63|               53|       47|     64|            13|       10|        10|          6|         11|\n",
            "|   José Izquierdo|   Colombia|             null|        null|    Club Brugge|           LW|    11.0|  08/30/2014|         2019.0|    78|171 cm| 75 kg|         Right|07/07/1992| 24|                LW|  High / Medium|        3|          4|          78|       83|     18|            15|             21|        27|       71|                75|           37|    72|       73|      70|        69|       63|          94|   93|     84|      63|     83|     90|     72|     60|        78|       71|        77|   75|               34|       58|     54|             7|       13|        12|          8|         13|\n",
            "|    Theo Bongonda|    Belgium|             null|        null|     Celta Vigo|           LW|     7.0|  01/09/2015|         2019.0|    78|177 cm| 71 kg|          Left|11/20/1995| 21|             LW/RW|Medium / Medium|        3|          4|          81|       80|     17|            29|             30|        30|       80|                77|           30|    73|       61|      78|        77|       61|          85|   83|     59|      54|     75|     86|     63|     39|        79|       69|        67|   64|               63|       57|     58|            15|       12|         9|         15|          7|\n",
            "+-----------------+-----------+-----------------+------------+---------------+-------------+--------+------------+---------------+------+------+------+--------------+----------+---+------------------+---------------+---------+-----------+------------+---------+-------+--------------+---------------+----------+---------+------------------+-------------+------+---------+--------+----------+---------+------------+-----+-------+--------+-------+-------+-------+-------+----------+---------+----------+-----+-----------------+---------+-------+--------------+---------+----------+-----------+-----------+\n",
            "only showing top 20 rows\n",
            "\n"
          ]
        }
      ]
    },
    {
      "cell_type": "markdown",
      "source": [
        "Between the new available players after applying the filter, we must choose the perfect one.\n",
        "\n",
        "* Principal Component Analysis for visualizing the skills in just two dimensions. The chosen skills will be: 'Work_Rate', 'Weak_foot', 'Skill_Moves', 'Ball_Control', 'Dribbling', 'Marking', 'Sliding_Tackle', 'Standing_Tackle', 'Aggression', 'Reactions', 'Attacking_Position', 'Interceptions', 'Vision', 'Composure', 'Crossing', 'Short_Pass', 'Long_Pass', 'Acceleration', 'Speed', 'Stamina', 'Strength', 'Balance', 'Agility', 'Jumping', 'Heading', 'Shot_Power', 'Finishing', 'Long_Shots', 'Curve', 'Freekick_Accuracy', 'Penalties', 'Volleys'. Notice that we can also select the 'Name' column as label."
      ],
      "metadata": {
        "id": "DzgW86Oulin9"
      }
    },
    {
      "cell_type": "code",
      "source": [
        "PCA_dataset = available_players_filtered.select('Name', 'Work_Rate', 'Weak_foot', 'Skill_Moves', 'Ball_Control',\n",
        "                                         'Dribbling', 'Marking', 'Sliding_Tackle', 'Standing_Tackle',\n",
        "                                         'Aggression', 'Reactions', 'Attacking_Position', 'Interceptions',\n",
        "                                         'Vision', 'Composure', 'Crossing', 'Short_Pass', 'Long_Pass',\n",
        "                                         'Acceleration', 'Speed', 'Stamina', 'Strength', 'Balance',\n",
        "                                         'Agility', 'Jumping', 'Heading', 'Shot_Power', 'Finishing',\n",
        "                                         'Long_Shots', 'Curve', 'Freekick_Accuracy', 'Penalties', 'Volleys')"
      ],
      "metadata": {
        "id": "3SJMOc81g_7x"
      },
      "execution_count": 30,
      "outputs": []
    },
    {
      "cell_type": "code",
      "source": [
        "PCA_dataset.show()"
      ],
      "metadata": {
        "colab": {
          "base_uri": "https://localhost:8080/"
        },
        "id": "Z2_tutzJnjb9",
        "outputId": "d3006fdc-1e5e-44c3-dd9c-50326dd39161"
      },
      "execution_count": 31,
      "outputs": [
        {
          "output_type": "stream",
          "name": "stdout",
          "text": [
            "+-----------------+---------------+---------+-----------+------------+---------+-------+--------------+---------------+----------+---------+------------------+-------------+------+---------+--------+----------+---------+------------+-----+-------+--------+-------+-------+-------+-------+----------+---------+----------+-----+-----------------+---------+-------+\n",
            "|             Name|      Work_Rate|Weak_foot|Skill_Moves|Ball_Control|Dribbling|Marking|Sliding_Tackle|Standing_Tackle|Aggression|Reactions|Attacking_Position|Interceptions|Vision|Composure|Crossing|Short_Pass|Long_Pass|Acceleration|Speed|Stamina|Strength|Balance|Agility|Jumping|Heading|Shot_Power|Finishing|Long_Shots|Curve|Freekick_Accuracy|Penalties|Volleys|\n",
            "+-----------------+---------------+---------+-----------+------------+---------+-------+--------------+---------------+----------+---------+------------------+-------------+------+---------+--------+----------+---------+------------+-----+-------+--------+-------+-------+-------+-------+----------+---------+----------+-----+-----------------+---------+-------+\n",
            "|Cristiano Ronaldo|     High / Low|        4|          5|          93|       92|     22|            23|             31|        63|       96|                94|           29|    85|       86|      84|        83|       77|          91|   92|     92|      80|     63|     90|     95|     85|        92|       93|        90|   81|               76|       85|     88|\n",
            "|      Eden Hazard|  High / Medium|        4|          4|          91|       93|     25|            22|             27|        54|       85|                85|           41|    86|       86|      80|        84|       80|          93|   87|     77|      65|     90|     92|     59|     57|        79|       81|        82|   82|               79|       86|     79|\n",
            "|       Marco Reus|Medium / Medium|        4|          4|          85|       86|     30|            46|             36|        49|       87|                87|           50|    86|       82|      83|        86|       79|          89|   91|     73|      67|     82|     87|     72|     51|        87|       84|        85|   90|               84|       84|     88|\n",
            "|         Coutinho|    High / High|        4|          4|          88|       88|     24|            40|             44|        55|       81|                83|           30|    87|       79|      77|        85|       78|          89|   77|     79|      61|     91|     91|     59|     47|        79|       73|        85|   84|               79|       64|     75|\n",
            "|    Dimitri Payet|     High / Low|        4|          4|          90|       89|     29|            39|             36|        57|       76|                79|           37|    87|       86|      86|        86|       84|          79|   75|     73|      76|     81|     80|     48|     59|        78|       76|        83|   90|               91|       76|     79|\n",
            "|  Lorenzo Insigne|  High / Medium|        3|          4|          90|       88|     16|            22|             24|        34|       80|                83|           26|    85|       72|      82|        81|       72|          94|   86|     77|      44|     93|     96|     55|     56|        68|       71|        79|   78|               75|       61|     74|\n",
            "|   Julian Draxler|   Medium / Low|        5|          4|          85|       87|     25|            26|             35|        48|       81|                79|           36|    80|       78|      78|        83|       72|          77|   77|     69|      67|     75|     82|     76|     65|        84|       75|        81|   78|               72|       63|     84|\n",
            "|             Nani|  High / Medium|        4|          5|          86|       87|     15|            20|             22|        62|       80|                77|           31|    80|       79|      82|        81|       79|          86|   79|     75|      62|     77|     92|     46|     46|        85|       75|        83|   86|               79|       72|     75|\n",
            "|  Anthony Martial|     High / Low|        4|          4|          84|       88|     35|            38|             39|        59|       81|                80|           42|    70|       80|      73|        75|       58|          92|   91|     80|      80|     85|     85|     80|     70|        84|       82|        72|   76|               54|       71|     74|\n",
            "|      Oleg Shatov|  High / Medium|        4|          4|          82|       82|     38|            42|             45|        70|       77|                78|           63|    81|       76|      74|        80|       72|          85|   90|     73|      66|     78|     83|     59|     55|        75|       75|        74|   77|               70|       60|     69|\n",
            "|         Deulofeu|     High / Low|        4|          4|          86|       89|     20|            22|             30|        40|       77|                78|           25|    72|       66|      76|        78|       62|          89|   92|     76|      59|     77|     93|     72|     40|        68|       74|        65|   84|               75|       70|     60|\n",
            "|       Leroy Sané|  High / Medium|        3|          3|          83|       86|     26|            35|             32|        58|       79|                79|           32|    68|       74|      72|        75|       64|          92|   91|     80|      63|     82|     86|     66|     72|        78|       75|        77|   81|               62|       63|     64|\n",
            "| Keita Baldé Diao|     High / Low|        4|          4|          88|       86|     17|            28|             29|        54|       74|                75|           31|    72|       69|      74|        76|       64|          90|   92|     75|      78|     77|     79|     66|     58|        75|       73|        72|   70|               52|       58|     68|\n",
            "|  Younès Belhanda|Medium / Medium|        4|          4|          83|       84|     49|            52|             54|        75|       79|                74|           66|    81|       70|      79|        83|       80|          77|   73|     79|      63|     77|     87|     74|     67|        78|       73|        81|   78|               78|       80|     69|\n",
            "|    Memphis Depay|     High / Low|        2|          4|          80|       85|     24|            20|             31|        62|       77|                75|           31|    73|       67|      67|        73|       63|          91|   89|     78|      80|     83|     83|     74|     55|        88|       72|        81|   85|               90|       66|     69|\n",
            "|      Dušan Tadić|Medium / Medium|        2|          4|          85|       83|     40|            26|             34|        56|       80|                73|           31|    84|       78|      79|        81|       77|          72|   70|     73|      64|     77|     81|     65|     63|        69|       65|        66|   83|               76|       80|     73|\n",
            "|      Adem Ljajić|  High / Medium|        4|          4|          86|       84|     23|            35|             35|        44|       75|                78|           32|    78|       75|      74|        78|       68|          83|   79|     69|      65|     79|     81|     63|     48|        76|       72|        78|   80|               79|       75|     74|\n",
            "|        Oyarzabal|  High / Medium|        3|          3|          82|       81|     35|            30|             32|        40|       81|                80|           29|    75|       56|      79|        76|       69|          72|   73|     70|      59|     69|     71|     59|     44|        73|       73|        75|   63|               53|       47|     64|\n",
            "|   José Izquierdo|  High / Medium|        3|          4|          78|       83|     18|            15|             21|        27|       71|                75|           37|    72|       73|      70|        69|       63|          94|   93|     84|      63|     83|     90|     72|     60|        78|       71|        77|   75|               34|       58|     54|\n",
            "|    Theo Bongonda|Medium / Medium|        3|          4|          81|       80|     17|            29|             30|        30|       80|                77|           30|    73|       61|      78|        77|       61|          85|   83|     59|      54|     75|     86|     63|     39|        79|       69|        67|   64|               63|       57|     58|\n",
            "+-----------------+---------------+---------+-----------+------------+---------+-------+--------------+---------------+----------+---------+------------------+-------------+------+---------+--------+----------+---------+------------+-----+-------+--------+-------+-------+-------+-------+----------+---------+----------+-----+-----------------+---------+-------+\n",
            "only showing top 20 rows\n",
            "\n"
          ]
        }
      ]
    },
    {
      "cell_type": "markdown",
      "source": [
        "First part consists of standarizing the dataset, and categorizing the non numerical column 'Work_Rate'."
      ],
      "metadata": {
        "id": "h8o2QQQkuimI"
      }
    },
    {
      "cell_type": "code",
      "source": [
        "from pyspark.ml.feature import StringIndexer\n",
        "\n",
        "indexer = StringIndexer(inputCol=\"Work_Rate\", outputCol=\"Work_Rate_numerical\")\n",
        "indexed = indexer.fit(PCA_dataset).transform(PCA_dataset)\n",
        "indexed = indexed.drop('Work_Rate')\n",
        "indexed.show()"
      ],
      "metadata": {
        "colab": {
          "base_uri": "https://localhost:8080/"
        },
        "id": "TQ1zj6_tnlwV",
        "outputId": "356228e5-3c74-4fe4-b046-4f066d7ced56"
      },
      "execution_count": 32,
      "outputs": [
        {
          "output_type": "stream",
          "name": "stdout",
          "text": [
            "+-----------------+---------+-----------+------------+---------+-------+--------------+---------------+----------+---------+------------------+-------------+------+---------+--------+----------+---------+------------+-----+-------+--------+-------+-------+-------+-------+----------+---------+----------+-----+-----------------+---------+-------+-------------------+\n",
            "|             Name|Weak_foot|Skill_Moves|Ball_Control|Dribbling|Marking|Sliding_Tackle|Standing_Tackle|Aggression|Reactions|Attacking_Position|Interceptions|Vision|Composure|Crossing|Short_Pass|Long_Pass|Acceleration|Speed|Stamina|Strength|Balance|Agility|Jumping|Heading|Shot_Power|Finishing|Long_Shots|Curve|Freekick_Accuracy|Penalties|Volleys|Work_Rate_numerical|\n",
            "+-----------------+---------+-----------+------------+---------+-------+--------------+---------------+----------+---------+------------------+-------------+------+---------+--------+----------+---------+------------+-----+-------+--------+-------+-------+-------+-------+----------+---------+----------+-----+-----------------+---------+-------+-------------------+\n",
            "|Cristiano Ronaldo|        4|          5|          93|       92|     22|            23|             31|        63|       96|                94|           29|    85|       86|      84|        83|       77|          91|   92|     92|      80|     63|     90|     95|     85|        92|       93|        90|   81|               76|       85|     88|                1.0|\n",
            "|      Eden Hazard|        4|          4|          91|       93|     25|            22|             27|        54|       85|                85|           41|    86|       86|      80|        84|       80|          93|   87|     77|      65|     90|     92|     59|     57|        79|       81|        82|   82|               79|       86|     79|                0.0|\n",
            "|       Marco Reus|        4|          4|          85|       86|     30|            46|             36|        49|       87|                87|           50|    86|       82|      83|        86|       79|          89|   91|     73|      67|     82|     87|     72|     51|        87|       84|        85|   90|               84|       84|     88|                2.0|\n",
            "|         Coutinho|        4|          4|          88|       88|     24|            40|             44|        55|       81|                83|           30|    87|       79|      77|        85|       78|          89|   77|     79|      61|     91|     91|     59|     47|        79|       73|        85|   84|               79|       64|     75|                3.0|\n",
            "|    Dimitri Payet|        4|          4|          90|       89|     29|            39|             36|        57|       76|                79|           37|    87|       86|      86|        86|       84|          79|   75|     73|      76|     81|     80|     48|     59|        78|       76|        83|   90|               91|       76|     79|                1.0|\n",
            "|  Lorenzo Insigne|        3|          4|          90|       88|     16|            22|             24|        34|       80|                83|           26|    85|       72|      82|        81|       72|          94|   86|     77|      44|     93|     96|     55|     56|        68|       71|        79|   78|               75|       61|     74|                0.0|\n",
            "|   Julian Draxler|        5|          4|          85|       87|     25|            26|             35|        48|       81|                79|           36|    80|       78|      78|        83|       72|          77|   77|     69|      67|     75|     82|     76|     65|        84|       75|        81|   78|               72|       63|     84|                4.0|\n",
            "|             Nani|        4|          5|          86|       87|     15|            20|             22|        62|       80|                77|           31|    80|       79|      82|        81|       79|          86|   79|     75|      62|     77|     92|     46|     46|        85|       75|        83|   86|               79|       72|     75|                0.0|\n",
            "|  Anthony Martial|        4|          4|          84|       88|     35|            38|             39|        59|       81|                80|           42|    70|       80|      73|        75|       58|          92|   91|     80|      80|     85|     85|     80|     70|        84|       82|        72|   76|               54|       71|     74|                1.0|\n",
            "|      Oleg Shatov|        4|          4|          82|       82|     38|            42|             45|        70|       77|                78|           63|    81|       76|      74|        80|       72|          85|   90|     73|      66|     78|     83|     59|     55|        75|       75|        74|   77|               70|       60|     69|                0.0|\n",
            "|         Deulofeu|        4|          4|          86|       89|     20|            22|             30|        40|       77|                78|           25|    72|       66|      76|        78|       62|          89|   92|     76|      59|     77|     93|     72|     40|        68|       74|        65|   84|               75|       70|     60|                1.0|\n",
            "|       Leroy Sané|        3|          3|          83|       86|     26|            35|             32|        58|       79|                79|           32|    68|       74|      72|        75|       64|          92|   91|     80|      63|     82|     86|     66|     72|        78|       75|        77|   81|               62|       63|     64|                0.0|\n",
            "| Keita Baldé Diao|        4|          4|          88|       86|     17|            28|             29|        54|       74|                75|           31|    72|       69|      74|        76|       64|          90|   92|     75|      78|     77|     79|     66|     58|        75|       73|        72|   70|               52|       58|     68|                1.0|\n",
            "|  Younès Belhanda|        4|          4|          83|       84|     49|            52|             54|        75|       79|                74|           66|    81|       70|      79|        83|       80|          77|   73|     79|      63|     77|     87|     74|     67|        78|       73|        81|   78|               78|       80|     69|                2.0|\n",
            "|    Memphis Depay|        2|          4|          80|       85|     24|            20|             31|        62|       77|                75|           31|    73|       67|      67|        73|       63|          91|   89|     78|      80|     83|     83|     74|     55|        88|       72|        81|   85|               90|       66|     69|                1.0|\n",
            "|      Dušan Tadić|        2|          4|          85|       83|     40|            26|             34|        56|       80|                73|           31|    84|       78|      79|        81|       77|          72|   70|     73|      64|     77|     81|     65|     63|        69|       65|        66|   83|               76|       80|     73|                2.0|\n",
            "|      Adem Ljajić|        4|          4|          86|       84|     23|            35|             35|        44|       75|                78|           32|    78|       75|      74|        78|       68|          83|   79|     69|      65|     79|     81|     63|     48|        76|       72|        78|   80|               79|       75|     74|                0.0|\n",
            "|        Oyarzabal|        3|          3|          82|       81|     35|            30|             32|        40|       81|                80|           29|    75|       56|      79|        76|       69|          72|   73|     70|      59|     69|     71|     59|     44|        73|       73|        75|   63|               53|       47|     64|                0.0|\n",
            "|   José Izquierdo|        3|          4|          78|       83|     18|            15|             21|        27|       71|                75|           37|    72|       73|      70|        69|       63|          94|   93|     84|      63|     83|     90|     72|     60|        78|       71|        77|   75|               34|       58|     54|                0.0|\n",
            "|    Theo Bongonda|        3|          4|          81|       80|     17|            29|             30|        30|       80|                77|           30|    73|       61|      78|        77|       61|          85|   83|     59|      54|     75|     86|     63|     39|        79|       69|        67|   64|               63|       57|     58|                2.0|\n",
            "+-----------------+---------+-----------+------------+---------+-------+--------------+---------------+----------+---------+------------------+-------------+------+---------+--------+----------+---------+------------+-----+-------+--------+-------+-------+-------+-------+----------+---------+----------+-----+-----------------+---------+-------+-------------------+\n",
            "only showing top 20 rows\n",
            "\n"
          ]
        }
      ]
    },
    {
      "cell_type": "code",
      "source": [
        "from pyspark.ml.feature import StandardScaler\n",
        "\n",
        "standardScaler = StandardScaler()\n",
        "standardScaler.setInputCol('Work_Rate', 'Weak_foot', 'Skill_Moves', 'Ball_Control',\n",
        "                           'Dribbling', 'Marking', 'Sliding_Tackle', 'Standing_Tackle',\n",
        "                           'Aggression', 'Reactions', 'Attacking_Position', 'Interceptions',\n",
        "                           'Vision', 'Composure', 'Crossing', 'Short_Pass', 'Long_Pass',\n",
        "                           'Acceleration', 'Speed', 'Stamina', 'Strength', 'Balance',\n",
        "                           'Agility', 'Jumping', 'Heading', 'Shot_Power', 'Finishing',\n",
        "                           'Long_Shots', 'Curve', 'Freekick_Accuracy', 'Penalties', 'Volleys')\n",
        "\n",
        "model = standardScaler.fit(indexed)\n",
        "model.getInputCol()"
      ],
      "metadata": {
        "colab": {
          "base_uri": "https://localhost:8080/",
          "height": 245
        },
        "id": "nQSBYkJYvm73",
        "outputId": "da20a371-e82c-4f26-e79c-13a031750576"
      },
      "execution_count": 34,
      "outputs": [
        {
          "output_type": "error",
          "ename": "TypeError",
          "evalue": "ignored",
          "traceback": [
            "\u001b[0;31m---------------------------------------------------------------------------\u001b[0m",
            "\u001b[0;31mTypeError\u001b[0m                                 Traceback (most recent call last)",
            "\u001b[0;32m<ipython-input-34-b76bb9179e37>\u001b[0m in \u001b[0;36m<cell line: 4>\u001b[0;34m()\u001b[0m\n\u001b[1;32m      2\u001b[0m \u001b[0;34m\u001b[0m\u001b[0m\n\u001b[1;32m      3\u001b[0m \u001b[0mstandardScaler\u001b[0m \u001b[0;34m=\u001b[0m \u001b[0mStandardScaler\u001b[0m\u001b[0;34m(\u001b[0m\u001b[0;34m)\u001b[0m\u001b[0;34m\u001b[0m\u001b[0;34m\u001b[0m\u001b[0m\n\u001b[0;32m----> 4\u001b[0;31m standardScaler.setInputCol('Work_Rate', 'Weak_foot', 'Skill_Moves', 'Ball_Control', \n\u001b[0m\u001b[1;32m      5\u001b[0m                            \u001b[0;34m'Dribbling'\u001b[0m\u001b[0;34m,\u001b[0m \u001b[0;34m'Marking'\u001b[0m\u001b[0;34m,\u001b[0m \u001b[0;34m'Sliding_Tackle'\u001b[0m\u001b[0;34m,\u001b[0m \u001b[0;34m'Standing_Tackle'\u001b[0m\u001b[0;34m,\u001b[0m\u001b[0;34m\u001b[0m\u001b[0;34m\u001b[0m\u001b[0m\n\u001b[1;32m      6\u001b[0m                            \u001b[0;34m'Aggression'\u001b[0m\u001b[0;34m,\u001b[0m \u001b[0;34m'Reactions'\u001b[0m\u001b[0;34m,\u001b[0m \u001b[0;34m'Attacking_Position'\u001b[0m\u001b[0;34m,\u001b[0m \u001b[0;34m'Interceptions'\u001b[0m\u001b[0;34m,\u001b[0m\u001b[0;34m\u001b[0m\u001b[0;34m\u001b[0m\u001b[0m\n",
            "\u001b[0;31mTypeError\u001b[0m: StandardScaler.setInputCol() takes 2 positional arguments but 33 were given"
          ]
        }
      ]
    },
    {
      "cell_type": "code",
      "source": [],
      "metadata": {
        "id": "p4E4H-EoxLP9"
      },
      "execution_count": null,
      "outputs": []
    }
  ]
}