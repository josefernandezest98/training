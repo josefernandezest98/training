{
  "nbformat": 4,
  "nbformat_minor": 0,
  "metadata": {
    "colab": {
      "provenance": [],
      "authorship_tag": "ABX9TyNjepPWCx8M15ezxIzPcJK2",
      "include_colab_link": true
    },
    "kernelspec": {
      "name": "python3",
      "display_name": "Python 3"
    },
    "language_info": {
      "name": "python"
    }
  },
  "cells": [
    {
      "cell_type": "markdown",
      "metadata": {
        "id": "view-in-github",
        "colab_type": "text"
      },
      "source": [
        "<a href=\"https://colab.research.google.com/github/josefernandezest98/training/blob/main/PySpark_Training/pyspark_training_notebook.ipynb\" target=\"_parent\"><img src=\"https://colab.research.google.com/assets/colab-badge.svg\" alt=\"Open In Colab\"/></a>"
      ]
    },
    {
      "cell_type": "markdown",
      "source": [
        "# **PySpark Training Notebook**"
      ],
      "metadata": {
        "id": "tjRbkfzO1vL3"
      }
    },
    {
      "cell_type": "markdown",
      "source": [
        "## Apache Spark Introduction"
      ],
      "metadata": {
        "id": "0RMinAf-BDtD"
      }
    },
    {
      "cell_type": "markdown",
      "source": [
        "Spark is currently one of the most popular tools for big data analytics. Hadoop (another big data analytics tool) is a slightly older technology, although still in use by some companies. Spark is generally faster than Hadoop, which is why Spark has become more popular over the last few years.\n",
        "\n",
        "There are many other big data tools and systems, each with its own use case. For example, there are database system like Apache Cassandra and SQL query engines like Presto. But Spark is still one of the most popular tools for analyzing large data sets.\n",
        "\n",
        "**Why Spark?**\n",
        "\n",
        "Spark is meant for big data sets that cannot fit on one computer. But you don't need Spark if you are working on smaller data sets. In the cases of data sets that can fit on your local computer, there are many other options out there you can use to manipulate data. For example:\n",
        "\n",
        "* AWK: command line tool for manipulating text files.\n",
        "* R: programming language and software environment for statistical computing.\n",
        "* Python data libraries, which include Pandas, Matplotlib, NumPy, and scikit-learn among other libraries.\n",
        "\n",
        "**Spark's limitations**\n",
        "\n",
        "Spark Streaming’s latency is at least 500 milliseconds since it operates on micro-batches of records, instead of processing one record at a time. Native streaming tools such as Storm, Apex, or Flink can push down this latency value and might be more suitable for low-latency applications. Flink and Apex can be used for batch computation as well, so if you're already using them for stream processing, there's no need to add Spark to your stack of technologies.\n",
        "\n",
        "Another limitation of Spark is its selection of machine learning algorithms. Currently, Spark only supports algorithms that scale linearly with the input data size. In general, deep learning is not available either, though there are many projects that integrate Spark with Tensorflow and other deep learning tools.\n",
        "\n",
        "**The Spark Cluster**\n",
        "\n",
        "When we talk about distributed computing, we generally refer to a big computational job executing across a cluster of nodes. Each node is responsible for a set of operations on a subset of the data. At the end, we combine these partial results to get the final answer. There are four different modes to setup Spark:\n",
        "\n",
        "* Local mode: In this case, everything happens on a single machine. So, while we use spark's APIs, we don't really do any distributed computing. The local mode can be useful to learn syntax and to prototype your project.\n",
        "\n",
        "The other three modes are distributed and declare a cluster manager. The cluster manager is a separate process that monitors available resources and makes sure that all machines are responsive during the job. There are three different options of cluster managers:\n",
        "\n",
        "* Spark's own Standalone Customer Manager. In Spark's Standalone mode there is a Driver Process. If you open a Spark shell, either Python or Scala, you are directly interacting with the driver program. It acts as the master and is responsible for scheduling tasks\n",
        "* YARN from the Hadoop project.\n",
        "* Another open-source manager from UC Berkeley's AMPLab Coordinators.\n",
        "\n"
      ],
      "metadata": {
        "id": "8dksfXOI2E3A"
      }
    },
    {
      "cell_type": "markdown",
      "source": [
        "## PySpark"
      ],
      "metadata": {
        "id": "B7sTbyBI8v9v"
      }
    },
    {
      "cell_type": "markdown",
      "source": [
        "**What is PySpark?**\n",
        "\n",
        "PySpark is the Python API for Apache Spark, an open source, distributed computing framework and set of libraries for real-time, large-scale data processing. If you’re already familiar with Python and libraries such as Pandas, then PySpark is a good language to learn to create more scalable analyses and pipelines. PySpark gives you access to all the important Spark data constructs like:\n",
        "\n",
        "* RDDs.\n",
        "* DataFrames.\n",
        "* Spark SQL.\n",
        "\n",
        "That means you can write Spark code that runs in either a Spark Cluster, in a Jupyter Notebook, or on your laptop. When you write code on your Jupyter Notebook or a laptop, Spark creates a temporary Spark node that runs locally. Because Spark uses Java, it is necessary to install the JDK (Java Development Kit) on a computer used to run PySpark code.\n",
        "\n",
        "**PySpark DataFrames**\n",
        "\n",
        "The key data type used in PySpark is the Spark dataframe. This object can be thought of as a table distributed across a cluster, and has functionality that is similar to dataframes in R and Pandas. If you want to do distributed computation using PySpark, then you’ll need to perform operations on Spark dataframes and not other Python data types."
      ],
      "metadata": {
        "id": "R5zN2hblDTn-"
      }
    },
    {
      "cell_type": "markdown",
      "source": [
        "### 0. Instalation"
      ],
      "metadata": {
        "id": "RdDAJ7jODoUW"
      }
    },
    {
      "cell_type": "code",
      "source": [
        "# Comment the whole cell line once pyspark has been instalated in your environment\n",
        "# !pip install pyspark"
      ],
      "metadata": {
        "colab": {
          "base_uri": "https://localhost:8080/"
        },
        "id": "XGQVcimx2kIG",
        "outputId": "356a225f-001b-451c-9896-d8091b1b916c"
      },
      "execution_count": 2,
      "outputs": [
        {
          "output_type": "stream",
          "name": "stdout",
          "text": [
            "Collecting pyspark\n",
            "  Downloading pyspark-3.4.1.tar.gz (310.8 MB)\n",
            "\u001b[2K     \u001b[90m━━━━━━━━━━━━━━━━━━━━━━━━━━━━━━━━━━━━━━━\u001b[0m \u001b[32m310.8/310.8 MB\u001b[0m \u001b[31m4.2 MB/s\u001b[0m eta \u001b[36m0:00:00\u001b[0m\n",
            "\u001b[?25h  Preparing metadata (setup.py) ... \u001b[?25l\u001b[?25hdone\n",
            "Requirement already satisfied: py4j==0.10.9.7 in /usr/local/lib/python3.10/dist-packages (from pyspark) (0.10.9.7)\n",
            "Building wheels for collected packages: pyspark\n",
            "  Building wheel for pyspark (setup.py) ... \u001b[?25l\u001b[?25hdone\n",
            "  Created wheel for pyspark: filename=pyspark-3.4.1-py2.py3-none-any.whl size=311285387 sha256=dd1dedbc79294d1742ff412ebc7a9e619d45655360fe819a5d108228d2b34d24\n",
            "  Stored in directory: /root/.cache/pip/wheels/0d/77/a3/ff2f74cc9ab41f8f594dabf0579c2a7c6de920d584206e0834\n",
            "Successfully built pyspark\n",
            "Installing collected packages: pyspark\n",
            "Successfully installed pyspark-3.4.1\n"
          ]
        }
      ]
    },
    {
      "cell_type": "markdown",
      "source": [
        "### 1. Introduction to distributed data"
      ],
      "metadata": {
        "id": "pKQASTFyKSFU"
      }
    },
    {
      "cell_type": "markdown",
      "source": [
        "The first component of each Spark Program is the *SparkContext*. The *SparkContext* is the main entry point for Spark functionality and connects the cluster with the application.\n",
        "\n",
        "To create a *SparkContext*, we first need a *SparkConf* object to specify some information about the application such as its name and the master's nodes' IP address. If we run Spark in local mode, we can just put the string local as master.\n",
        "\n",
        "To read data frames, we need to use Spark SQL equivalent, the *SparkSession*.\n",
        "Similarity to the *SparkConf*, we can specify some parameters to create a *SparkSession*.\n",
        "\n",
        "*getOrCreate()* for example, means that if you already have a *SparkSession* running, instead of creating a new one, the old one will be returned and its parameters will be modified to the new configurations."
      ],
      "metadata": {
        "id": "ePTZi09sHt5k"
      }
    },
    {
      "cell_type": "code",
      "source": [
        "from pyspark.sql import SparkSession\n",
        "\n",
        "# Because we aren't running on a spark cluster, the session is just for development\n",
        "spark = SparkSession \\\n",
        "    .builder \\\n",
        "    .appName(\"PySpark Training\") \\\n",
        "    .getOrCreate()"
      ],
      "metadata": {
        "id": "Fas6rI1z8hn5"
      },
      "execution_count": 3,
      "outputs": []
    },
    {
      "cell_type": "markdown",
      "source": [
        "* **Resilient Distributed Dataset (RDD)**\n",
        "\n",
        "A Resilient Distributed Dataset (RDD) is a low-level API and Spark's underlying data abstraction. An RDD is a static set of items distributed across clusters to allow parallel processing. The data structure stores any Python, Java, Scala, or user-created object. An RDD stores data in read-only mode, making it immutable. Performing operations on existing RDDs creates new objects without manipulating existing data.\n",
        "\n",
        "RDDs reside in RAM through a caching process. Data that does not fit is either recalculated to reduce the size or stored on a permanent storage. Caching allows retrieving data without reading from disk, reducing disk overhead. RDDs further distribute the data storage across multiple partitions. Partitioning allows data recovery in case a node fails and ensures the data is available at all times.\n",
        "\n",
        "The main features of a Spark RDD are:\n",
        "\n",
        "* **In-memory computation**: data calculation resides in memory for faster access and fewer I/O operations.\n",
        "* **Fault tolerance**: the tracking of data creation helps recover or recreate lost data after a node failure.\n",
        "* **Immutability**: RDDs are read-only. The existing data cannot change, and transformations on existing data generate new RDDs.\n",
        "* **Lazy evaluation**: data does not load immediately after definition, the data loads when applying an action to the data."
      ],
      "metadata": {
        "id": "6Bcy7I_bRUPd"
      }
    },
    {
      "cell_type": "markdown",
      "source": [
        "For example, let's create a Python List with some football players from the Italian national team."
      ],
      "metadata": {
        "id": "3bG4scJg1rbK"
      }
    },
    {
      "cell_type": "code",
      "source": [
        "# FIFA players list\n",
        "fifa_players = [\n",
        "        \"Gianluigi Buffon\",\n",
        "        \"Andrea Barzagli\",\n",
        "        \"Giorgio Chiellini\",\n",
        "        \"Leonardo Bonucci\",\n",
        "        \"Claudio Marchisio\",\n",
        "        \"Marco Verratti\",\n",
        "        \"Lorenzo Insigne\",\n",
        "        \"Andrea Immobile\"\n",
        "]"
      ],
      "metadata": {
        "id": "vmyAogTCRQ1G"
      },
      "execution_count": 4,
      "outputs": []
    },
    {
      "cell_type": "markdown",
      "source": [
        "After some initialization, we'll convert the FIFA players list (just a normal Python list) to a distributed dataset that Spark can use (RDD). This uses a special *spark.sparkContext* object. The Spark Context has a method *parallelize* that takes a Python object and distributes the object across the machines in your cluster so Spark can process the dataset."
      ],
      "metadata": {
        "id": "XlofcFPHJm9O"
      }
    },
    {
      "cell_type": "code",
      "source": [
        "distributed_fifa_players = spark.sparkContext.parallelize(fifa_players)"
      ],
      "metadata": {
        "id": "fVGjiv9h9CLg"
      },
      "execution_count": 5,
      "outputs": []
    },
    {
      "cell_type": "markdown",
      "source": [
        "Once this small dataset is accessible to Spark, we want to do something with it. One example is simply converting the song title to a uppercase, a common pre-processing step to standardize your data."
      ],
      "metadata": {
        "id": "sXHc8F06MhMQ"
      }
    },
    {
      "cell_type": "code",
      "source": [
        "distributed_fifa_players.map(lambda player: player.upper())"
      ],
      "metadata": {
        "colab": {
          "base_uri": "https://localhost:8080/"
        },
        "id": "BNclae4KMuOZ",
        "outputId": "dfaff36a-2744-4a5d-998c-d9039c9cae4f"
      },
      "execution_count": 6,
      "outputs": [
        {
          "output_type": "execute_result",
          "data": {
            "text/plain": [
              "PythonRDD[1] at RDD at PythonRDD.scala:53"
            ]
          },
          "metadata": {},
          "execution_count": 6
        }
      ]
    },
    {
      "cell_type": "markdown",
      "source": [
        "All of these steps will appear to run instantly but remember, the spark commands are using lazy evaluation, they haven't really converted the players to uppercase yet. Spark will procrastinate in transforming the songs to uppercase since you might have several other processing steps like removing punctuation, Spark wants to wait until the last minute to see if it can streamline its work, and combine these into a single stage.\n",
        "\n",
        "If we want to force Spark to take some action on the data, we can use the *collect* function, which gathers the results from all of the machines in our cluster.\n",
        "\n",
        "*collect* is an action operation that is used to retrieve all the elements of the dataset (from all nodes) to the driver node. We should use the *collect* on smaller dataset usually after *filter*, *group* e.t.c. Retrieving larger datasets results in *OutOfMemory* error."
      ],
      "metadata": {
        "id": "jq6kQwM1L9Ry"
      }
    },
    {
      "cell_type": "code",
      "source": [
        "distributed_fifa_players.map(lambda player: player.upper()).collect()"
      ],
      "metadata": {
        "colab": {
          "base_uri": "https://localhost:8080/"
        },
        "id": "PmadAFXUNSmJ",
        "outputId": "552d07d7-8fa3-4111-c43a-e2a5bf755daf"
      },
      "execution_count": 7,
      "outputs": [
        {
          "output_type": "execute_result",
          "data": {
            "text/plain": [
              "['GIANLUIGI BUFFON',\n",
              " 'ANDREA BARZAGLI',\n",
              " 'GIORGIO CHIELLINI',\n",
              " 'LEONARDO BONUCCI',\n",
              " 'CLAUDIO MARCHISIO',\n",
              " 'MARCO VERRATTI',\n",
              " 'LORENZO INSIGNE',\n",
              " 'ANDREA IMMOBILE']"
            ]
          },
          "metadata": {},
          "execution_count": 7
        }
      ]
    },
    {
      "cell_type": "markdown",
      "source": [
        "* **PySpark DataFrame**"
      ],
      "metadata": {
        "id": "cLpPxTQAa0qs"
      }
    },
    {
      "cell_type": "markdown",
      "source": [
        "As we have seen before, the key data type used in PySpark is the Spark dataframe. Spark dataframes are distributed collections of data that can be run on multiple machines and organize data into named columns.\n",
        "\n",
        "In an attempt to dig deeper into the PySpark structure of DataFrame, we are going to create a table with several football players of the Italian national team."
      ],
      "metadata": {
        "id": "ysDFeuRN4SAX"
      }
    },
    {
      "cell_type": "markdown",
      "source": [
        "|number|firstName| lastName|  position|\n",
        "|:---|:-------------|:-----------|:------|\n",
        "|     1|Gianluigi|   Buffon|Goalkeeper|\n",
        "|     5|   Andrea| Barzagli|  Defender|\n",
        "|     8|  Claudio|Marchisio|Midfielder|\n",
        "|    11|    Marco| Verratti|Midfielder|\n",
        "|     9|     Ciro| Immobile| Attackant|"
      ],
      "metadata": {
        "id": "I5vLTvcEmtrA"
      }
    },
    {
      "cell_type": "code",
      "source": [
        "italy_team = [[1, 'Gianluigi', 'Buffon', 'Goalkeeper'],\n",
        "              [5, 'Andrea', 'Barzagli', 'Defender'],\n",
        "              [8, 'Claudio', 'Marchisio', 'Midfielder'],\n",
        "              [11, 'Marco', 'Verratti', 'Midfielder'],\n",
        "              [9, 'Ciro', 'Immobile', 'Attackant']]\n",
        "\n",
        "dframe = spark.createDataFrame(italy_team, [\"number\", \"firstName\", \"lastName\", \"position\"])\n",
        "dframe.show()"
      ],
      "metadata": {
        "colab": {
          "base_uri": "https://localhost:8080/"
        },
        "id": "MeiVpuyqF_pK",
        "outputId": "c8a5441b-02b9-412e-baf3-c698aa2810d4"
      },
      "execution_count": 8,
      "outputs": [
        {
          "output_type": "stream",
          "name": "stdout",
          "text": [
            "+------+---------+---------+----------+\n",
            "|number|firstName| lastName|  position|\n",
            "+------+---------+---------+----------+\n",
            "|     1|Gianluigi|   Buffon|Goalkeeper|\n",
            "|     5|   Andrea| Barzagli|  Defender|\n",
            "|     8|  Claudio|Marchisio|Midfielder|\n",
            "|    11|    Marco| Verratti|Midfielder|\n",
            "|     9|     Ciro| Immobile| Attackant|\n",
            "+------+---------+---------+----------+\n",
            "\n"
          ]
        }
      ]
    },
    {
      "cell_type": "markdown",
      "source": [
        "Imagine we want to select just the columns 'number' and 'firstName'. We can use the *select* statement, but it is very important to notice that we just get a display table, not a copy. Because of this, there is no space reserved in memory for any new object, it is just a new reference to the same object. If we modify one of both references, the second one will be applied with the same change. The PySpark *select* behaves in the same way as the SQL *SELECT* statement."
      ],
      "metadata": {
        "id": "BvTK58PB5Sb9"
      }
    },
    {
      "cell_type": "code",
      "source": [
        "dframe2 = dframe.select('number', 'firstName')\n",
        "dframe2.show()"
      ],
      "metadata": {
        "colab": {
          "base_uri": "https://localhost:8080/"
        },
        "id": "VrcDhYuFa3kE",
        "outputId": "174e6e4d-6110-4cc0-9c2f-6683e3f580ae"
      },
      "execution_count": 9,
      "outputs": [
        {
          "output_type": "stream",
          "name": "stdout",
          "text": [
            "+------+---------+\n",
            "|number|firstName|\n",
            "+------+---------+\n",
            "|     1|Gianluigi|\n",
            "|     5|   Andrea|\n",
            "|     8|  Claudio|\n",
            "|    11|    Marco|\n",
            "|     9|     Ciro|\n",
            "+------+---------+\n",
            "\n"
          ]
        }
      ]
    },
    {
      "cell_type": "markdown",
      "source": [
        "Now we are going to select the columns 'number' and 'lastName', and then join the both tables together with the *join* statement."
      ],
      "metadata": {
        "id": "qckSG5uO8Yg7"
      }
    },
    {
      "cell_type": "code",
      "source": [
        "dframe3 = dframe.select('number', 'lastName')\n",
        "\n",
        "dframe4 = dframe2.join(dframe3, on='number')\n",
        "dframe4.show()"
      ],
      "metadata": {
        "colab": {
          "base_uri": "https://localhost:8080/"
        },
        "id": "Mr6ODYB_7eKb",
        "outputId": "01c63b5e-7ceb-4922-cb8c-eda4fee35591"
      },
      "execution_count": 10,
      "outputs": [
        {
          "output_type": "stream",
          "name": "stdout",
          "text": [
            "+------+---------+---------+\n",
            "|number|firstName| lastName|\n",
            "+------+---------+---------+\n",
            "|     1|Gianluigi|   Buffon|\n",
            "|     5|   Andrea| Barzagli|\n",
            "|     8|  Claudio|Marchisio|\n",
            "|     9|     Ciro| Immobile|\n",
            "|    11|    Marco| Verratti|\n",
            "+------+---------+---------+\n",
            "\n"
          ]
        }
      ]
    },
    {
      "cell_type": "markdown",
      "source": [
        "In particular, the t-shirt number is unique, so we could consider the column 'number' as the PRIVATE KEY of both tables."
      ],
      "metadata": {
        "id": "_B6p0xENCzSm"
      }
    },
    {
      "cell_type": "code",
      "source": [
        "dframe4.where(dframe4.number == 1).show()\n",
        "dframe4.filter(dframe4.number == 1).show()"
      ],
      "metadata": {
        "colab": {
          "base_uri": "https://localhost:8080/"
        },
        "id": "xWEdR4n-DFXk",
        "outputId": "a77e9e4e-05a0-4b57-a02e-dc12263496bf"
      },
      "execution_count": 11,
      "outputs": [
        {
          "output_type": "stream",
          "name": "stdout",
          "text": [
            "+------+---------+--------+\n",
            "|number|firstName|lastName|\n",
            "+------+---------+--------+\n",
            "|     1|Gianluigi|  Buffon|\n",
            "+------+---------+--------+\n",
            "\n",
            "+------+---------+--------+\n",
            "|number|firstName|lastName|\n",
            "+------+---------+--------+\n",
            "|     1|Gianluigi|  Buffon|\n",
            "+------+---------+--------+\n",
            "\n"
          ]
        }
      ]
    },
    {
      "cell_type": "markdown",
      "source": [
        "Operations:\n",
        "\n",
        "* Add rows.\n",
        "* Add columns.\n",
        "* Delete rows.\n",
        "* Delete columns.\n",
        "* Concat DataFrames.\n",
        "* Change certain cells.\n",
        "\n",
        "We are going to practice over the original DataFrame: dframe."
      ],
      "metadata": {
        "id": "HeyqqwD7KKA1"
      }
    },
    {
      "cell_type": "markdown",
      "source": [
        "* *Add rows*: we want to add a new football player to the team, Roberto Baggio with number 10, as Atackant. If we wanted to add several rows, we would do it in the same way."
      ],
      "metadata": {
        "id": "djEu-0XzMHs8"
      }
    },
    {
      "cell_type": "code",
      "source": [
        "newRow = spark.createDataFrame([(10, 'Roberto', 'Baggio', 'Attackant')], [\"number\", \"firstName\", \"lastName\", \"position\"])\n",
        "appended = dframe.union(newRow)\n",
        "appended.show()"
      ],
      "metadata": {
        "colab": {
          "base_uri": "https://localhost:8080/"
        },
        "id": "BictyFitM3hz",
        "outputId": "5252d034-a499-483e-c263-ccb1cc47d6a0"
      },
      "execution_count": 13,
      "outputs": [
        {
          "output_type": "stream",
          "name": "stdout",
          "text": [
            "+------+---------+---------+----------+\n",
            "|number|firstName| lastName|  position|\n",
            "+------+---------+---------+----------+\n",
            "|     1|Gianluigi|   Buffon|Goalkeeper|\n",
            "|     5|   Andrea| Barzagli|  Defender|\n",
            "|     8|  Claudio|Marchisio|Midfielder|\n",
            "|    11|    Marco| Verratti|Midfielder|\n",
            "|     9|     Ciro| Immobile| Attackant|\n",
            "|    10|  Roberto|   Baggio| Attackant|\n",
            "+------+---------+---------+----------+\n",
            "\n"
          ]
        }
      ]
    },
    {
      "cell_type": "markdown",
      "source": [
        "* *Add columns:* we want to add a new column, the national team."
      ],
      "metadata": {
        "id": "pMJEv0YzNyqc"
      }
    },
    {
      "cell_type": "code",
      "source": [
        "from pyspark.sql.functions import lit\n",
        "appended2 = dframe.withColumn(\"nationalTeam\", lit(\"Italy\"))\n",
        "appended2.show()"
      ],
      "metadata": {
        "colab": {
          "base_uri": "https://localhost:8080/"
        },
        "id": "T12npIDKOSW6",
        "outputId": "78a9bddf-e39f-4c88-d1e6-4f6106e3d3a5"
      },
      "execution_count": 14,
      "outputs": [
        {
          "output_type": "stream",
          "name": "stdout",
          "text": [
            "+------+---------+---------+----------+------------+\n",
            "|number|firstName| lastName|  position|nationalTeam|\n",
            "+------+---------+---------+----------+------------+\n",
            "|     1|Gianluigi|   Buffon|Goalkeeper|       Italy|\n",
            "|     5|   Andrea| Barzagli|  Defender|       Italy|\n",
            "|     8|  Claudio|Marchisio|Midfielder|       Italy|\n",
            "|    11|    Marco| Verratti|Midfielder|       Italy|\n",
            "|     9|     Ciro| Immobile| Attackant|       Italy|\n",
            "+------+---------+---------+----------+------------+\n",
            "\n"
          ]
        }
      ]
    },
    {
      "cell_type": "markdown",
      "source": [
        "* *Delete rows:* Roberto Baggio is no longer an active player, so let´s remove his contanining row."
      ],
      "metadata": {
        "id": "52-vr6FIR5RJ"
      }
    },
    {
      "cell_type": "code",
      "source": [
        "appended.filter(appended.number != '10').show()"
      ],
      "metadata": {
        "colab": {
          "base_uri": "https://localhost:8080/"
        },
        "id": "AKzgZQgzSVNw",
        "outputId": "14ddf17f-8646-4d8b-b792-e7aee4ffee2b"
      },
      "execution_count": 15,
      "outputs": [
        {
          "output_type": "stream",
          "name": "stdout",
          "text": [
            "+------+---------+---------+----------+\n",
            "|number|firstName| lastName|  position|\n",
            "+------+---------+---------+----------+\n",
            "|     1|Gianluigi|   Buffon|Goalkeeper|\n",
            "|     5|   Andrea| Barzagli|  Defender|\n",
            "|     8|  Claudio|Marchisio|Midfielder|\n",
            "|    11|    Marco| Verratti|Midfielder|\n",
            "|     9|     Ciro| Immobile| Attackant|\n",
            "+------+---------+---------+----------+\n",
            "\n"
          ]
        }
      ]
    },
    {
      "cell_type": "markdown",
      "source": [
        "* *Delete columns:* the national team is redundant, every row contains the value 'Italy'. Therefore let's drop the 'country' column."
      ],
      "metadata": {
        "id": "5EUJY1ytj83m"
      }
    },
    {
      "cell_type": "code",
      "source": [
        "appended2.drop(appended2.nationalTeam).show()"
      ],
      "metadata": {
        "colab": {
          "base_uri": "https://localhost:8080/"
        },
        "id": "DrXzlUg-kN8N",
        "outputId": "7bb7c427-448c-4020-c2e0-54cf25e536ba"
      },
      "execution_count": 16,
      "outputs": [
        {
          "output_type": "stream",
          "name": "stdout",
          "text": [
            "+------+---------+---------+----------+\n",
            "|number|firstName| lastName|  position|\n",
            "+------+---------+---------+----------+\n",
            "|     1|Gianluigi|   Buffon|Goalkeeper|\n",
            "|     5|   Andrea| Barzagli|  Defender|\n",
            "|     8|  Claudio|Marchisio|Midfielder|\n",
            "|    11|    Marco| Verratti|Midfielder|\n",
            "|     9|     Ciro| Immobile| Attackant|\n",
            "+------+---------+---------+----------+\n",
            "\n"
          ]
        }
      ]
    },
    {
      "cell_type": "markdown",
      "source": [
        "* **PySpark SQL DataFrame**"
      ],
      "metadata": {
        "id": "EvpW7k963Npm"
      }
    },
    {
      "cell_type": "markdown",
      "source": [
        "DataFrames allows PySpark to query data using another way, like a SQL table. Notice the fact that this time the *join* method returns a new DataFrame, it is not a display like we have seen before. We could have done the same with the submodule *pyspark.sql*."
      ],
      "metadata": {
        "id": "lXKOBCsg3YH_"
      }
    },
    {
      "cell_type": "code",
      "source": [
        "dframe2.createOrReplaceTempView(\"fifa_table_1\")\n",
        "dframe3.createOrReplaceTempView(\"fifa_table_2\")\n",
        "\n",
        "spark.sql('''\n",
        "          SELECT fifa_table_1.number, firstName, lastName\n",
        "          FROM fifa_table_1 JOIN fifa_table_2\n",
        "          ON fifa_table_1.number = fifa_table_2.number\n",
        "          WHERE fifa_table_1.number == 1\n",
        "          '''\n",
        "          ).show()"
      ],
      "metadata": {
        "colab": {
          "base_uri": "https://localhost:8080/"
        },
        "id": "xn0qo4RT3aC3",
        "outputId": "3d6e7d2c-8431-4d00-c89d-2d5068a03a76"
      },
      "execution_count": 35,
      "outputs": [
        {
          "output_type": "stream",
          "name": "stdout",
          "text": [
            "+------+---------+--------+\n",
            "|number|firstName|lastName|\n",
            "+------+---------+--------+\n",
            "|     1|Gianluigi|  Buffon|\n",
            "+------+---------+--------+\n",
            "\n"
          ]
        }
      ]
    },
    {
      "cell_type": "markdown",
      "source": [
        "### 2. Reading a DataFrame"
      ],
      "metadata": {
        "id": "723sePDjJW3A"
      }
    },
    {
      "cell_type": "markdown",
      "source": [
        "To see a real dataset example, we are going one dataset. The fifa17_players.csv consists of the football players database, with personal information and skills rating, extracted from the videogame FIFA 17. First of all, we are going to download it from github repository."
      ],
      "metadata": {
        "id": "_VHGKdt769aM"
      }
    },
    {
      "cell_type": "markdown",
      "source": [
        "|Name|Nationality|National_Position|National_Kit|Club|Club_Position|Club_Kit|Club_Joining|...|\n",
        "|:---|:-------------|:-----------|:------|:------|:------|:------|:------|:------|\n",
        "|            De Gea|      Spain|               GK|         1.0|Manchester Utd|           GK|     1.0|  07/01/2011| ... |\n",
        "|      Lionel Messi|  Argentina|               RW|        10.0|  FC Barcelona|           RW|    10.0|  07/01/2004| ... |\n",
        "|            Neymar|     Brazil|               LW|        10.0|  FC Barcelona|           LW|    11.0|  07/01/2013| ... |\n",
        "|       Luis Suárez|    Uruguay|               LS|         9.0|  FC Barcelona|           ST|     9.0|  07/11/2014| ... |\n",
        "|      Manuel Neuer|    Germany|               GK|         1.0|     FC Bayern|           GK|     1.0|  07/01/2011| ... |\n",
        "|  ...| ...| ...| ...| ...|           ...|     ...|  ... | ... |"
      ],
      "metadata": {
        "id": "oVENvOVG5sYe"
      }
    },
    {
      "cell_type": "code",
      "source": [
        "!wget https://raw.githubusercontent.com/josefernandezest98/training/main/PySpark_Training/fifa17_players.csv"
      ],
      "metadata": {
        "id": "XsDpX1sRCVx9",
        "colab": {
          "base_uri": "https://localhost:8080/"
        },
        "outputId": "30ea464a-7e84-441c-b0fe-5b9465f1f41d"
      },
      "execution_count": 17,
      "outputs": [
        {
          "output_type": "stream",
          "name": "stdout",
          "text": [
            "--2023-08-28 04:56:52--  https://raw.githubusercontent.com/josefernandezest98/training/main/PySpark_Training/fifa17_players.csv\n",
            "Resolving raw.githubusercontent.com (raw.githubusercontent.com)... 185.199.108.133, 185.199.109.133, 185.199.110.133, ...\n",
            "Connecting to raw.githubusercontent.com (raw.githubusercontent.com)|185.199.108.133|:443... connected.\n",
            "HTTP request sent, awaiting response... 200 OK\n",
            "Length: 3930217 (3.7M) [text/plain]\n",
            "Saving to: ‘fifa17_players.csv’\n",
            "\n",
            "fifa17_players.csv  100%[===================>]   3.75M  --.-KB/s    in 0.04s   \n",
            "\n",
            "2023-08-28 04:56:53 (84.0 MB/s) - ‘fifa17_players.csv’ saved [3930217/3930217]\n",
            "\n"
          ]
        }
      ]
    },
    {
      "cell_type": "code",
      "source": [
        "fifa_df = spark.read.csv(\"fifa17_players.csv\", inferSchema = True, header = True)\n",
        "fifa_df.show(10)"
      ],
      "metadata": {
        "id": "Kaoqtdaobcs1",
        "colab": {
          "base_uri": "https://localhost:8080/"
        },
        "outputId": "5cd9166d-186d-4086-c71e-d58f310493a1"
      },
      "execution_count": 36,
      "outputs": [
        {
          "output_type": "stream",
          "name": "stdout",
          "text": [
            "+------------------+-----------+-----------------+------------+--------------+-------------+--------+------------+---------------+------+------+------+--------------+----------+---+------------------+---------------+---------+-----------+------------+---------+-------+--------------+---------------+----------+---------+------------------+-------------+------+---------+--------+----------+---------+------------+-----+-------+--------+-------+-------+-------+-------+----------+---------+----------+-----+-----------------+---------+-------+--------------+---------+----------+-----------+-----------+\n",
            "|              Name|Nationality|National_Position|National_Kit|          Club|Club_Position|Club_Kit|Club_Joining|Contract_Expiry|Rating|Height|Weight|Preffered_Foot|Birth_Date|Age|Preffered_Position|      Work_Rate|Weak_foot|Skill_Moves|Ball_Control|Dribbling|Marking|Sliding_Tackle|Standing_Tackle|Aggression|Reactions|Attacking_Position|Interceptions|Vision|Composure|Crossing|Short_Pass|Long_Pass|Acceleration|Speed|Stamina|Strength|Balance|Agility|Jumping|Heading|Shot_Power|Finishing|Long_Shots|Curve|Freekick_Accuracy|Penalties|Volleys|GK_Positioning|GK_Diving|GK_Kicking|GK_Handling|GK_Reflexes|\n",
            "+------------------+-----------+-----------------+------------+--------------+-------------+--------+------------+---------------+------+------+------+--------------+----------+---+------------------+---------------+---------+-----------+------------+---------+-------+--------------+---------------+----------+---------+------------------+-------------+------+---------+--------+----------+---------+------------+-----+-------+--------+-------+-------+-------+-------+----------+---------+----------+-----+-----------------+---------+-------+--------------+---------+----------+-----------+-----------+\n",
            "| Cristiano Ronaldo|   Portugal|               LS|         7.0|   Real Madrid|           LW|     7.0|  07/01/2009|         2021.0|    94|185 cm| 80 kg|         Right|02/05/1985| 32|             LW/ST|     High / Low|        4|          5|          93|       92|     22|            23|             31|        63|       96|                94|           29|    85|       86|      84|        83|       77|          91|   92|     92|      80|     63|     90|     95|     85|        92|       93|        90|   81|               76|       85|     88|            14|        7|        15|         11|         11|\n",
            "|      Lionel Messi|  Argentina|               RW|        10.0|  FC Barcelona|           RW|    10.0|  07/01/2004|         2018.0|    93|170 cm| 72 kg|          Left|06/24/1987| 29|                RW|Medium / Medium|        4|          4|          95|       97|     13|            26|             28|        48|       95|                93|           22|    90|       94|      77|        88|       87|          92|   87|     74|      59|     95|     90|     68|     71|        85|       95|        88|   89|               90|       74|     85|            14|        6|        15|         11|          8|\n",
            "|            Neymar|     Brazil|               LW|        10.0|  FC Barcelona|           LW|    11.0|  07/01/2013|         2021.0|    92|174 cm| 68 kg|         Right|02/05/1992| 25|                LW|  High / Medium|        5|          5|          95|       96|     21|            33|             24|        56|       88|                90|           36|    80|       80|      75|        81|       75|          93|   90|     79|      49|     82|     96|     61|     62|        78|       89|        77|   79|               84|       81|     83|            15|        9|        15|          9|         11|\n",
            "|       Luis Suárez|    Uruguay|               LS|         9.0|  FC Barcelona|           ST|     9.0|  07/11/2014|         2021.0|    92|182 cm| 85 kg|         Right|01/24/1987| 30|                ST|  High / Medium|        4|          4|          91|       86|     30|            38|             45|        78|       93|                92|           41|    84|       83|      77|        83|       64|          88|   77|     89|      76|     60|     86|     69|     77|        87|       94|        86|   86|               84|       85|     88|            33|       27|        31|         25|         37|\n",
            "|      Manuel Neuer|    Germany|               GK|         1.0|     FC Bayern|           GK|     1.0|  07/01/2011|         2021.0|    92|193 cm| 92 kg|         Right|03/27/1986| 31|                GK|Medium / Medium|        4|          1|          48|       30|     10|            11|             10|        29|       85|                12|           30|    70|       70|      15|        55|       59|          58|   61|     44|      83|     35|     52|     78|     25|        25|       13|        16|   14|               11|       47|     11|            91|       89|        95|         90|         89|\n",
            "|            De Gea|      Spain|               GK|         1.0|Manchester Utd|           GK|     1.0|  07/01/2011|         2019.0|    90|193 cm| 82 kg|         Right|11/07/1990| 26|                GK|Medium / Medium|        3|          1|          31|       13|     13|            13|             21|        38|       88|                12|           30|    68|       60|      17|        31|       32|          56|   56|     25|      64|     43|     57|     67|     21|        31|       13|        12|   21|               19|       40|     13|            86|       88|        87|         85|         90|\n",
            "|Robert Lewandowski|     Poland|               LS|         9.0|     FC Bayern|           ST|     9.0|  07/01/2014|         2021.0|    90|185 cm| 79 kg|         Right|08/21/1988| 28|                ST|  High / Medium|        4|          3|          87|       85|     25|            19|             42|        80|       88|                89|           39|    78|       87|      62|        83|       65|          79|   82|     79|      84|     79|     78|     84|     85|        86|       91|        82|   77|               76|       81|     86|             8|       15|        12|          6|         10|\n",
            "|       Gareth Bale|      Wales|               RS|        11.0|   Real Madrid|           RW|    11.0|  09/02/2013|         2022.0|    90|183 cm| 74 kg|          Left|07/16/1989| 27|                RW|  High / Medium|        3|          4|          88|       89|     51|            52|             55|        65|       87|                86|           59|    79|       85|      87|        86|       80|          93|   95|     78|      80|     65|     77|     85|     86|        91|       87|        90|   86|               85|       76|     76|             5|       15|        11|         15|          6|\n",
            "|Zlatan Ibrahimović|     Sweden|             null|        null|Manchester Utd|           ST|     9.0|  07/01/2016|         2017.0|    90|195 cm| 95 kg|         Right|10/03/1981| 35|                ST|   Medium / Low|        4|          4|          90|       87|     15|            27|             41|        84|       85|                86|           20|    83|       91|      76|        84|       76|          69|   74|     75|      93|     41|     86|     72|     80|        93|       90|        88|   82|               82|       91|     93|             9|       13|        10|         15|         12|\n",
            "|  Thibaut Courtois|    Belgium|               GK|         1.0|       Chelsea|           GK|    13.0|  07/26/2011|         2019.0|    89|199 cm| 91 kg|          Left|05/11/1992| 24|                GK|Medium / Medium|        3|          1|          23|       13|     11|            16|             18|        23|       81|                13|           15|    44|       52|      14|        32|       31|          46|   52|     38|      70|     45|     61|     68|     13|        36|       14|        17|   19|               11|       27|     12|            86|       84|        69|         91|         89|\n",
            "+------------------+-----------+-----------------+------------+--------------+-------------+--------+------------+---------------+------+------+------+--------------+----------+---+------------------+---------------+---------+-----------+------------+---------+-------+--------------+---------------+----------+---------+------------------+-------------+------+---------+--------+----------+---------+------------+-----+-------+--------+-------+-------+-------+-------+----------+---------+----------+-----+-----------------+---------+-------+--------------+---------+----------+-----------+-----------+\n",
            "only showing top 10 rows\n",
            "\n"
          ]
        }
      ]
    },
    {
      "cell_type": "markdown",
      "source": [
        "### 3. Data description and visualization"
      ],
      "metadata": {
        "id": "KTKyFFHtwkt1"
      }
    },
    {
      "cell_type": "code",
      "source": [
        "import pandas as pd\n",
        "\n",
        "fifa_df.printSchema()\n",
        "pd.DataFrame(fifa_df.dtypes, columns = ['Column Name','Data type'])\n",
        "fifa_df.describe().toPandas()"
      ],
      "metadata": {
        "colab": {
          "base_uri": "https://localhost:8080/",
          "height": 1000
        },
        "id": "Gbzr_Y9kBMSA",
        "outputId": "0f2eea2d-c457-46a7-b0a9-ca702ce152d4"
      },
      "execution_count": 44,
      "outputs": [
        {
          "output_type": "stream",
          "name": "stdout",
          "text": [
            "root\n",
            " |-- Name: string (nullable = true)\n",
            " |-- Nationality: string (nullable = true)\n",
            " |-- National_Position: string (nullable = true)\n",
            " |-- National_Kit: double (nullable = true)\n",
            " |-- Club: string (nullable = true)\n",
            " |-- Club_Position: string (nullable = true)\n",
            " |-- Club_Kit: double (nullable = true)\n",
            " |-- Club_Joining: string (nullable = true)\n",
            " |-- Contract_Expiry: double (nullable = true)\n",
            " |-- Rating: integer (nullable = true)\n",
            " |-- Height: string (nullable = true)\n",
            " |-- Weight: string (nullable = true)\n",
            " |-- Preffered_Foot: string (nullable = true)\n",
            " |-- Birth_Date: string (nullable = true)\n",
            " |-- Age: integer (nullable = true)\n",
            " |-- Preffered_Position: string (nullable = true)\n",
            " |-- Work_Rate: string (nullable = true)\n",
            " |-- Weak_foot: integer (nullable = true)\n",
            " |-- Skill_Moves: integer (nullable = true)\n",
            " |-- Ball_Control: integer (nullable = true)\n",
            " |-- Dribbling: integer (nullable = true)\n",
            " |-- Marking: integer (nullable = true)\n",
            " |-- Sliding_Tackle: integer (nullable = true)\n",
            " |-- Standing_Tackle: integer (nullable = true)\n",
            " |-- Aggression: integer (nullable = true)\n",
            " |-- Reactions: integer (nullable = true)\n",
            " |-- Attacking_Position: integer (nullable = true)\n",
            " |-- Interceptions: integer (nullable = true)\n",
            " |-- Vision: integer (nullable = true)\n",
            " |-- Composure: integer (nullable = true)\n",
            " |-- Crossing: integer (nullable = true)\n",
            " |-- Short_Pass: integer (nullable = true)\n",
            " |-- Long_Pass: integer (nullable = true)\n",
            " |-- Acceleration: integer (nullable = true)\n",
            " |-- Speed: integer (nullable = true)\n",
            " |-- Stamina: integer (nullable = true)\n",
            " |-- Strength: integer (nullable = true)\n",
            " |-- Balance: integer (nullable = true)\n",
            " |-- Agility: integer (nullable = true)\n",
            " |-- Jumping: integer (nullable = true)\n",
            " |-- Heading: integer (nullable = true)\n",
            " |-- Shot_Power: integer (nullable = true)\n",
            " |-- Finishing: integer (nullable = true)\n",
            " |-- Long_Shots: integer (nullable = true)\n",
            " |-- Curve: integer (nullable = true)\n",
            " |-- Freekick_Accuracy: integer (nullable = true)\n",
            " |-- Penalties: integer (nullable = true)\n",
            " |-- Volleys: integer (nullable = true)\n",
            " |-- GK_Positioning: integer (nullable = true)\n",
            " |-- GK_Diving: integer (nullable = true)\n",
            " |-- GK_Kicking: integer (nullable = true)\n",
            " |-- GK_Handling: integer (nullable = true)\n",
            " |-- GK_Reflexes: integer (nullable = true)\n",
            "\n"
          ]
        },
        {
          "output_type": "execute_result",
          "data": {
            "text/plain": [
              "  summary              Name  Nationality National_Position       National_Kit  \\\n",
              "0   count             17588        17588              1075               1075   \n",
              "1    mean              None         None              None  12.21953488372093   \n",
              "2  stddev              None         None              None  6.933186712887216   \n",
              "3     min    A.J. DeLaGarza  Afghanistan               CAM                1.0   \n",
              "4     max  Željko Filipović     Zimbabwe               Sub               36.0   \n",
              "\n",
              "               Club Club_Position            Club_Kit Club_Joining  \\\n",
              "0             17588         17587               17587        17587   \n",
              "1              None          None  21.294535736623644         None   \n",
              "2              None          None  19.163740902120328         None   \n",
              "3  1. FC Heidenheim           CAM                 1.0   01/01/1993   \n",
              "4     Śląsk Wrocław           Sub                99.0   12/31/2016   \n",
              "\n",
              "      Contract_Expiry  ...          Long_Shots              Curve  \\\n",
              "0               17587  ...               17588              17588   \n",
              "1  2018.8994143401376  ...   47.40317261769388  47.18114623607005   \n",
              "2  1.6987874397242104  ...  19.211887239466655  18.46439603587325   \n",
              "3              2017.0  ...                   4                  6   \n",
              "4              2023.0  ...                  91                 92   \n",
              "\n",
              "    Freekick_Accuracy           Penalties            Volleys  \\\n",
              "0               17588               17588              17588   \n",
              "1   43.38344325676598   49.16573800318399  43.27558562656357   \n",
              "2  17.701902992977164  15.871735042516146  17.71083867546305   \n",
              "3                   4                   7                  3   \n",
              "4                  93                  96                 93   \n",
              "\n",
              "      GK_Positioning          GK_Diving          GK_Kicking  \\\n",
              "0              17588              17588               17588   \n",
              "1   16.6096201955879  16.82306117807596  16.458323857175348   \n",
              "2  17.13990350837133  17.79805177156695  16.600741103484737   \n",
              "3                  1                  1                   1   \n",
              "4                 91                 89                  95   \n",
              "\n",
              "          GK_Handling         GK_Reflexes  \n",
              "0               17588               17588  \n",
              "1  16.559813509210827  16.901182624516714  \n",
              "2  16.967255592321123  18.034484658944706  \n",
              "3                   1                   1  \n",
              "4                  91                  90  \n",
              "\n",
              "[5 rows x 54 columns]"
            ],
            "text/html": [
              "\n",
              "  <div id=\"df-4103d904-8bd3-40f2-8657-eaf41e162555\" class=\"colab-df-container\">\n",
              "    <div>\n",
              "<style scoped>\n",
              "    .dataframe tbody tr th:only-of-type {\n",
              "        vertical-align: middle;\n",
              "    }\n",
              "\n",
              "    .dataframe tbody tr th {\n",
              "        vertical-align: top;\n",
              "    }\n",
              "\n",
              "    .dataframe thead th {\n",
              "        text-align: right;\n",
              "    }\n",
              "</style>\n",
              "<table border=\"1\" class=\"dataframe\">\n",
              "  <thead>\n",
              "    <tr style=\"text-align: right;\">\n",
              "      <th></th>\n",
              "      <th>summary</th>\n",
              "      <th>Name</th>\n",
              "      <th>Nationality</th>\n",
              "      <th>National_Position</th>\n",
              "      <th>National_Kit</th>\n",
              "      <th>Club</th>\n",
              "      <th>Club_Position</th>\n",
              "      <th>Club_Kit</th>\n",
              "      <th>Club_Joining</th>\n",
              "      <th>Contract_Expiry</th>\n",
              "      <th>...</th>\n",
              "      <th>Long_Shots</th>\n",
              "      <th>Curve</th>\n",
              "      <th>Freekick_Accuracy</th>\n",
              "      <th>Penalties</th>\n",
              "      <th>Volleys</th>\n",
              "      <th>GK_Positioning</th>\n",
              "      <th>GK_Diving</th>\n",
              "      <th>GK_Kicking</th>\n",
              "      <th>GK_Handling</th>\n",
              "      <th>GK_Reflexes</th>\n",
              "    </tr>\n",
              "  </thead>\n",
              "  <tbody>\n",
              "    <tr>\n",
              "      <th>0</th>\n",
              "      <td>count</td>\n",
              "      <td>17588</td>\n",
              "      <td>17588</td>\n",
              "      <td>1075</td>\n",
              "      <td>1075</td>\n",
              "      <td>17588</td>\n",
              "      <td>17587</td>\n",
              "      <td>17587</td>\n",
              "      <td>17587</td>\n",
              "      <td>17587</td>\n",
              "      <td>...</td>\n",
              "      <td>17588</td>\n",
              "      <td>17588</td>\n",
              "      <td>17588</td>\n",
              "      <td>17588</td>\n",
              "      <td>17588</td>\n",
              "      <td>17588</td>\n",
              "      <td>17588</td>\n",
              "      <td>17588</td>\n",
              "      <td>17588</td>\n",
              "      <td>17588</td>\n",
              "    </tr>\n",
              "    <tr>\n",
              "      <th>1</th>\n",
              "      <td>mean</td>\n",
              "      <td>None</td>\n",
              "      <td>None</td>\n",
              "      <td>None</td>\n",
              "      <td>12.21953488372093</td>\n",
              "      <td>None</td>\n",
              "      <td>None</td>\n",
              "      <td>21.294535736623644</td>\n",
              "      <td>None</td>\n",
              "      <td>2018.8994143401376</td>\n",
              "      <td>...</td>\n",
              "      <td>47.40317261769388</td>\n",
              "      <td>47.18114623607005</td>\n",
              "      <td>43.38344325676598</td>\n",
              "      <td>49.16573800318399</td>\n",
              "      <td>43.27558562656357</td>\n",
              "      <td>16.6096201955879</td>\n",
              "      <td>16.82306117807596</td>\n",
              "      <td>16.458323857175348</td>\n",
              "      <td>16.559813509210827</td>\n",
              "      <td>16.901182624516714</td>\n",
              "    </tr>\n",
              "    <tr>\n",
              "      <th>2</th>\n",
              "      <td>stddev</td>\n",
              "      <td>None</td>\n",
              "      <td>None</td>\n",
              "      <td>None</td>\n",
              "      <td>6.933186712887216</td>\n",
              "      <td>None</td>\n",
              "      <td>None</td>\n",
              "      <td>19.163740902120328</td>\n",
              "      <td>None</td>\n",
              "      <td>1.6987874397242104</td>\n",
              "      <td>...</td>\n",
              "      <td>19.211887239466655</td>\n",
              "      <td>18.46439603587325</td>\n",
              "      <td>17.701902992977164</td>\n",
              "      <td>15.871735042516146</td>\n",
              "      <td>17.71083867546305</td>\n",
              "      <td>17.13990350837133</td>\n",
              "      <td>17.79805177156695</td>\n",
              "      <td>16.600741103484737</td>\n",
              "      <td>16.967255592321123</td>\n",
              "      <td>18.034484658944706</td>\n",
              "    </tr>\n",
              "    <tr>\n",
              "      <th>3</th>\n",
              "      <td>min</td>\n",
              "      <td>A.J. DeLaGarza</td>\n",
              "      <td>Afghanistan</td>\n",
              "      <td>CAM</td>\n",
              "      <td>1.0</td>\n",
              "      <td>1. FC Heidenheim</td>\n",
              "      <td>CAM</td>\n",
              "      <td>1.0</td>\n",
              "      <td>01/01/1993</td>\n",
              "      <td>2017.0</td>\n",
              "      <td>...</td>\n",
              "      <td>4</td>\n",
              "      <td>6</td>\n",
              "      <td>4</td>\n",
              "      <td>7</td>\n",
              "      <td>3</td>\n",
              "      <td>1</td>\n",
              "      <td>1</td>\n",
              "      <td>1</td>\n",
              "      <td>1</td>\n",
              "      <td>1</td>\n",
              "    </tr>\n",
              "    <tr>\n",
              "      <th>4</th>\n",
              "      <td>max</td>\n",
              "      <td>Željko Filipović</td>\n",
              "      <td>Zimbabwe</td>\n",
              "      <td>Sub</td>\n",
              "      <td>36.0</td>\n",
              "      <td>Śląsk Wrocław</td>\n",
              "      <td>Sub</td>\n",
              "      <td>99.0</td>\n",
              "      <td>12/31/2016</td>\n",
              "      <td>2023.0</td>\n",
              "      <td>...</td>\n",
              "      <td>91</td>\n",
              "      <td>92</td>\n",
              "      <td>93</td>\n",
              "      <td>96</td>\n",
              "      <td>93</td>\n",
              "      <td>91</td>\n",
              "      <td>89</td>\n",
              "      <td>95</td>\n",
              "      <td>91</td>\n",
              "      <td>90</td>\n",
              "    </tr>\n",
              "  </tbody>\n",
              "</table>\n",
              "<p>5 rows × 54 columns</p>\n",
              "</div>\n",
              "    <div class=\"colab-df-buttons\">\n",
              "\n",
              "  <div class=\"colab-df-container\">\n",
              "    <button class=\"colab-df-convert\" onclick=\"convertToInteractive('df-4103d904-8bd3-40f2-8657-eaf41e162555')\"\n",
              "            title=\"Convert this dataframe to an interactive table.\"\n",
              "            style=\"display:none;\">\n",
              "\n",
              "  <svg xmlns=\"http://www.w3.org/2000/svg\" height=\"24px\" viewBox=\"0 -960 960 960\">\n",
              "    <path d=\"M120-120v-720h720v720H120Zm60-500h600v-160H180v160Zm220 220h160v-160H400v160Zm0 220h160v-160H400v160ZM180-400h160v-160H180v160Zm440 0h160v-160H620v160ZM180-180h160v-160H180v160Zm440 0h160v-160H620v160Z\"/>\n",
              "  </svg>\n",
              "    </button>\n",
              "\n",
              "  <style>\n",
              "    .colab-df-container {\n",
              "      display:flex;\n",
              "      gap: 12px;\n",
              "    }\n",
              "\n",
              "    .colab-df-convert {\n",
              "      background-color: #E8F0FE;\n",
              "      border: none;\n",
              "      border-radius: 50%;\n",
              "      cursor: pointer;\n",
              "      display: none;\n",
              "      fill: #1967D2;\n",
              "      height: 32px;\n",
              "      padding: 0 0 0 0;\n",
              "      width: 32px;\n",
              "    }\n",
              "\n",
              "    .colab-df-convert:hover {\n",
              "      background-color: #E2EBFA;\n",
              "      box-shadow: 0px 1px 2px rgba(60, 64, 67, 0.3), 0px 1px 3px 1px rgba(60, 64, 67, 0.15);\n",
              "      fill: #174EA6;\n",
              "    }\n",
              "\n",
              "    .colab-df-buttons div {\n",
              "      margin-bottom: 4px;\n",
              "    }\n",
              "\n",
              "    [theme=dark] .colab-df-convert {\n",
              "      background-color: #3B4455;\n",
              "      fill: #D2E3FC;\n",
              "    }\n",
              "\n",
              "    [theme=dark] .colab-df-convert:hover {\n",
              "      background-color: #434B5C;\n",
              "      box-shadow: 0px 1px 3px 1px rgba(0, 0, 0, 0.15);\n",
              "      filter: drop-shadow(0px 1px 2px rgba(0, 0, 0, 0.3));\n",
              "      fill: #FFFFFF;\n",
              "    }\n",
              "  </style>\n",
              "\n",
              "    <script>\n",
              "      const buttonEl =\n",
              "        document.querySelector('#df-4103d904-8bd3-40f2-8657-eaf41e162555 button.colab-df-convert');\n",
              "      buttonEl.style.display =\n",
              "        google.colab.kernel.accessAllowed ? 'block' : 'none';\n",
              "\n",
              "      async function convertToInteractive(key) {\n",
              "        const element = document.querySelector('#df-4103d904-8bd3-40f2-8657-eaf41e162555');\n",
              "        const dataTable =\n",
              "          await google.colab.kernel.invokeFunction('convertToInteractive',\n",
              "                                                    [key], {});\n",
              "        if (!dataTable) return;\n",
              "\n",
              "        const docLinkHtml = 'Like what you see? Visit the ' +\n",
              "          '<a target=\"_blank\" href=https://colab.research.google.com/notebooks/data_table.ipynb>data table notebook</a>'\n",
              "          + ' to learn more about interactive tables.';\n",
              "        element.innerHTML = '';\n",
              "        dataTable['output_type'] = 'display_data';\n",
              "        await google.colab.output.renderOutput(dataTable, element);\n",
              "        const docLink = document.createElement('div');\n",
              "        docLink.innerHTML = docLinkHtml;\n",
              "        element.appendChild(docLink);\n",
              "      }\n",
              "    </script>\n",
              "  </div>\n",
              "\n",
              "\n",
              "<div id=\"df-39bff0c6-b587-436b-ac80-445750daaa33\">\n",
              "  <button class=\"colab-df-quickchart\" onclick=\"quickchart('df-39bff0c6-b587-436b-ac80-445750daaa33')\"\n",
              "            title=\"Suggest charts.\"\n",
              "            style=\"display:none;\">\n",
              "\n",
              "<svg xmlns=\"http://www.w3.org/2000/svg\" height=\"24px\"viewBox=\"0 0 24 24\"\n",
              "     width=\"24px\">\n",
              "    <g>\n",
              "        <path d=\"M19 3H5c-1.1 0-2 .9-2 2v14c0 1.1.9 2 2 2h14c1.1 0 2-.9 2-2V5c0-1.1-.9-2-2-2zM9 17H7v-7h2v7zm4 0h-2V7h2v10zm4 0h-2v-4h2v4z\"/>\n",
              "    </g>\n",
              "</svg>\n",
              "  </button>\n",
              "\n",
              "<style>\n",
              "  .colab-df-quickchart {\n",
              "    background-color: #E8F0FE;\n",
              "    border: none;\n",
              "    border-radius: 50%;\n",
              "    cursor: pointer;\n",
              "    display: none;\n",
              "    fill: #1967D2;\n",
              "    height: 32px;\n",
              "    padding: 0 0 0 0;\n",
              "    width: 32px;\n",
              "  }\n",
              "\n",
              "  .colab-df-quickchart:hover {\n",
              "    background-color: #E2EBFA;\n",
              "    box-shadow: 0px 1px 2px rgba(60, 64, 67, 0.3), 0px 1px 3px 1px rgba(60, 64, 67, 0.15);\n",
              "    fill: #174EA6;\n",
              "  }\n",
              "\n",
              "  [theme=dark] .colab-df-quickchart {\n",
              "    background-color: #3B4455;\n",
              "    fill: #D2E3FC;\n",
              "  }\n",
              "\n",
              "  [theme=dark] .colab-df-quickchart:hover {\n",
              "    background-color: #434B5C;\n",
              "    box-shadow: 0px 1px 3px 1px rgba(0, 0, 0, 0.15);\n",
              "    filter: drop-shadow(0px 1px 2px rgba(0, 0, 0, 0.3));\n",
              "    fill: #FFFFFF;\n",
              "  }\n",
              "</style>\n",
              "\n",
              "  <script>\n",
              "    async function quickchart(key) {\n",
              "      const charts = await google.colab.kernel.invokeFunction(\n",
              "          'suggestCharts', [key], {});\n",
              "    }\n",
              "    (() => {\n",
              "      let quickchartButtonEl =\n",
              "        document.querySelector('#df-39bff0c6-b587-436b-ac80-445750daaa33 button');\n",
              "      quickchartButtonEl.style.display =\n",
              "        google.colab.kernel.accessAllowed ? 'block' : 'none';\n",
              "    })();\n",
              "  </script>\n",
              "</div>\n",
              "    </div>\n",
              "  </div>\n"
            ]
          },
          "metadata": {},
          "execution_count": 44
        }
      ]
    },
    {
      "cell_type": "markdown",
      "source": [
        "### 4. Machine Learning"
      ],
      "metadata": {
        "id": "FKnkpzv8wpU1"
      }
    },
    {
      "cell_type": "markdown",
      "source": [
        "For Machine Learning, we are going to use MLlib, which is Spark’s library. Its goal is to make practical machine learning scalable and easy. At a high level, it provides tools such as:\n",
        "\n",
        "* ML Algorithms: common learning algorithms such as classification, regression, clustering, and collaborative filtering\n",
        "* Featurization: feature extraction, transformation, dimensionality reduction, and selection\n",
        "* Pipelines: tools for constructing, evaluating, and tuning ML Pipelines\n",
        "* Persistence: saving and load algorithms, models, and Pipelines\n",
        "* Utilities: linear algebra, statistics, data handling, etc."
      ],
      "metadata": {
        "id": "SH3AA-9U-ZYp"
      }
    },
    {
      "cell_type": "markdown",
      "source": [
        "### **Exercise**\n",
        "Imagine you are a Data Scientist for FC Barcelona. PSG has made an offert for the football player Neymar, and he has already accepted. The team manager is asking for your support trying to supply the vacant, and find the player that fits better to Neymar's position. You work consist of filtering the database, and generating a Machine Learning model to predict the best option. For that you must follow the next steps:\n",
        "* Find which role plays in FC Barcelona the player Neymar.\n",
        "* Select the available players in other teams. As FC Barcelona has a large budget, you are able to sign any player in the database. We recommend you to have several options, for just in case there is no agreement with the first player you consider to contract.\n",
        "* FC Barcelona is quite prestigious, every player in your list should be rated over 75.\n",
        "* Now it is time to compare football players. The best option is the one more similar to Neymar. For that, cluster football players and take the final list nearest to Neymar habilities and ratings. Notice that the are several clustering techniques, try to find the best one between them, and the appropiate number of clusters.\n",
        "* Visualize the players map in two dimensions, applying Principal Component Analysis. The clustering technique can be done in two or more dimensions, although consider there might be considerable differences between the explained variance."
      ],
      "metadata": {
        "id": "BNojYrqmfUDV"
      }
    },
    {
      "cell_type": "markdown",
      "source": [
        "\n",
        "\n",
        "1. Find wich role plays in FC Barcelona the football player Neymar, selecting the column 'Club_Position' where the necessary conditions."
      ],
      "metadata": {
        "id": "BHV0l7Puhr_I"
      }
    },
    {
      "cell_type": "code",
      "source": [
        "fifa_df.select('Club_Position').where((fifa_df.Club == \"FC Barcelona\") & (fifa_df.Name == \"Neymar\")).show()"
      ],
      "metadata": {
        "colab": {
          "base_uri": "https://localhost:8080/"
        },
        "id": "Opn7X1HChwqh",
        "outputId": "e19383af-3c92-401b-ab5b-3ff44bb41613"
      },
      "execution_count": 19,
      "outputs": [
        {
          "output_type": "stream",
          "name": "stdout",
          "text": [
            "+-------------+\n",
            "|Club_Position|\n",
            "+-------------+\n",
            "|           LW|\n",
            "+-------------+\n",
            "\n"
          ]
        }
      ]
    },
    {
      "cell_type": "markdown",
      "source": [
        "Once we know Neymar plays in 'LW' position (Left Wing), our aim will consist of looking for the football player wich better fits in the team."
      ],
      "metadata": {
        "id": "DCHsn_UiiNqR"
      }
    },
    {
      "cell_type": "markdown",
      "source": [
        "2. Create a table with *select* statement (not really creation, just display) with the available players to be chosen."
      ],
      "metadata": {
        "id": "YxceSmZZig5g"
      }
    },
    {
      "cell_type": "code",
      "source": [
        "available_players = fifa_df.where((fifa_df.Club_Position == \"LW\") & (fifa_df.Name != \"Neymar\"))\n",
        "available_players.show(5)"
      ],
      "metadata": {
        "colab": {
          "base_uri": "https://localhost:8080/"
        },
        "id": "Wd2VCncaQEAY",
        "outputId": "04ce7e48-6581-4bbf-d524-a56854f36ba4"
      },
      "execution_count": 45,
      "outputs": [
        {
          "output_type": "stream",
          "name": "stdout",
          "text": [
            "+-----------------+-----------+-----------------+------------+---------------+-------------+--------+------------+---------------+------+------+------+--------------+----------+---+------------------+---------------+---------+-----------+------------+---------+-------+--------------+---------------+----------+---------+------------------+-------------+------+---------+--------+----------+---------+------------+-----+-------+--------+-------+-------+-------+-------+----------+---------+----------+-----+-----------------+---------+-------+--------------+---------+----------+-----------+-----------+\n",
            "|             Name|Nationality|National_Position|National_Kit|           Club|Club_Position|Club_Kit|Club_Joining|Contract_Expiry|Rating|Height|Weight|Preffered_Foot|Birth_Date|Age|Preffered_Position|      Work_Rate|Weak_foot|Skill_Moves|Ball_Control|Dribbling|Marking|Sliding_Tackle|Standing_Tackle|Aggression|Reactions|Attacking_Position|Interceptions|Vision|Composure|Crossing|Short_Pass|Long_Pass|Acceleration|Speed|Stamina|Strength|Balance|Agility|Jumping|Heading|Shot_Power|Finishing|Long_Shots|Curve|Freekick_Accuracy|Penalties|Volleys|GK_Positioning|GK_Diving|GK_Kicking|GK_Handling|GK_Reflexes|\n",
            "+-----------------+-----------+-----------------+------------+---------------+-------------+--------+------------+---------------+------+------+------+--------------+----------+---+------------------+---------------+---------+-----------+------------+---------+-------+--------------+---------------+----------+---------+------------------+-------------+------+---------+--------+----------+---------+------------+-----+-------+--------+-------+-------+-------+-------+----------+---------+----------+-----+-----------------+---------+-------+--------------+---------+----------+-----------+-----------+\n",
            "|Cristiano Ronaldo|   Portugal|               LS|         7.0|    Real Madrid|           LW|     7.0|  07/01/2009|         2021.0|    94|185 cm| 80 kg|         Right|02/05/1985| 32|             LW/ST|     High / Low|        4|          5|          93|       92|     22|            23|             31|        63|       96|                94|           29|    85|       86|      84|        83|       77|          91|   92|     92|      80|     63|     90|     95|     85|        92|       93|        90|   81|               76|       85|     88|            14|        7|        15|         11|         11|\n",
            "|      Eden Hazard|    Belgium|               LF|        10.0|        Chelsea|           LW|    10.0|  07/01/2012|         2020.0|    89|173 cm| 74 kg|         Right|01/07/1991| 26|             LW/LM|  High / Medium|        4|          4|          91|       93|     25|            22|             27|        54|       85|                85|           41|    86|       86|      80|        84|       80|          93|   87|     77|      65|     90|     92|     59|     57|        79|       81|        82|   82|               79|       86|     79|             8|       11|         6|         12|          8|\n",
            "|       Marco Reus|    Germany|             null|        null|  Bor. Dortmund|           LW|    11.0|  07/01/2012|         2019.0|    88|182 cm| 76 kg|         Right|05/31/1989| 27|            LM/CAM|Medium / Medium|        4|          4|          85|       86|     30|            46|             36|        49|       87|                87|           50|    86|       82|      83|        86|       79|          89|   91|     73|      67|     82|     87|     72|     51|        87|       84|        85|   90|               84|       84|     88|            13|       12|        13|         12|         11|\n",
            "|         Coutinho|     Brazil|               RW|        11.0|      Liverpool|           LW|    10.0|  01/30/2013|         2022.0|    86|171 cm| 68 kg|         Right|06/12/1992| 24|            LW/CAM|    High / High|        4|          4|          88|       88|     24|            40|             44|        55|       81|                83|           30|    87|       79|      77|        85|       78|          89|   77|     79|      61|     91|     91|     59|     47|        79|       73|        85|   84|               79|       64|     75|            14|       12|         9|          7|          6|\n",
            "|    Dimitri Payet|     France|               LM|         8.0|Olym. Marseille|           LW|    11.0|  01/29/2017|         2021.0|    85|175 cm| 77 kg|         Right|03/29/1987| 30|             LM/LW|     High / Low|        4|          4|          90|       89|     29|            39|             36|        57|       76|                79|           37|    87|       86|      86|        86|       84|          79|   75|     73|      76|     81|     80|     48|     59|        78|       76|        83|   90|               91|       76|     79|            14|       11|         9|         15|         12|\n",
            "+-----------------+-----------+-----------------+------------+---------------+-------------+--------+------------+---------------+------+------+------+--------------+----------+---+------------------+---------------+---------+-----------+------------+---------+-------+--------------+---------------+----------+---------+------------------+-------------+------+---------+--------+----------+---------+------------+-----+-------+--------+-------+-------+-------+-------+----------+---------+----------+-----+-----------------+---------+-------+--------------+---------+----------+-----------+-----------+\n",
            "only showing top 5 rows\n",
            "\n"
          ]
        }
      ]
    },
    {
      "cell_type": "markdown",
      "source": [
        "3. Filter the database with column 'Rating' over 75."
      ],
      "metadata": {
        "id": "svKouggbjkrA"
      }
    },
    {
      "cell_type": "code",
      "source": [
        "available_players_filtered = available_players.where(available_players.Rating >= 75)\n",
        "available_players_filtered.show(5)"
      ],
      "metadata": {
        "colab": {
          "base_uri": "https://localhost:8080/"
        },
        "id": "eIvAkn0gf_TE",
        "outputId": "8c9b41ee-1bbe-4204-ac95-3130a2ee1955"
      },
      "execution_count": 46,
      "outputs": [
        {
          "output_type": "stream",
          "name": "stdout",
          "text": [
            "+-----------------+-----------+-----------------+------------+---------------+-------------+--------+------------+---------------+------+------+------+--------------+----------+---+------------------+---------------+---------+-----------+------------+---------+-------+--------------+---------------+----------+---------+------------------+-------------+------+---------+--------+----------+---------+------------+-----+-------+--------+-------+-------+-------+-------+----------+---------+----------+-----+-----------------+---------+-------+--------------+---------+----------+-----------+-----------+\n",
            "|             Name|Nationality|National_Position|National_Kit|           Club|Club_Position|Club_Kit|Club_Joining|Contract_Expiry|Rating|Height|Weight|Preffered_Foot|Birth_Date|Age|Preffered_Position|      Work_Rate|Weak_foot|Skill_Moves|Ball_Control|Dribbling|Marking|Sliding_Tackle|Standing_Tackle|Aggression|Reactions|Attacking_Position|Interceptions|Vision|Composure|Crossing|Short_Pass|Long_Pass|Acceleration|Speed|Stamina|Strength|Balance|Agility|Jumping|Heading|Shot_Power|Finishing|Long_Shots|Curve|Freekick_Accuracy|Penalties|Volleys|GK_Positioning|GK_Diving|GK_Kicking|GK_Handling|GK_Reflexes|\n",
            "+-----------------+-----------+-----------------+------------+---------------+-------------+--------+------------+---------------+------+------+------+--------------+----------+---+------------------+---------------+---------+-----------+------------+---------+-------+--------------+---------------+----------+---------+------------------+-------------+------+---------+--------+----------+---------+------------+-----+-------+--------+-------+-------+-------+-------+----------+---------+----------+-----+-----------------+---------+-------+--------------+---------+----------+-----------+-----------+\n",
            "|Cristiano Ronaldo|   Portugal|               LS|         7.0|    Real Madrid|           LW|     7.0|  07/01/2009|         2021.0|    94|185 cm| 80 kg|         Right|02/05/1985| 32|             LW/ST|     High / Low|        4|          5|          93|       92|     22|            23|             31|        63|       96|                94|           29|    85|       86|      84|        83|       77|          91|   92|     92|      80|     63|     90|     95|     85|        92|       93|        90|   81|               76|       85|     88|            14|        7|        15|         11|         11|\n",
            "|      Eden Hazard|    Belgium|               LF|        10.0|        Chelsea|           LW|    10.0|  07/01/2012|         2020.0|    89|173 cm| 74 kg|         Right|01/07/1991| 26|             LW/LM|  High / Medium|        4|          4|          91|       93|     25|            22|             27|        54|       85|                85|           41|    86|       86|      80|        84|       80|          93|   87|     77|      65|     90|     92|     59|     57|        79|       81|        82|   82|               79|       86|     79|             8|       11|         6|         12|          8|\n",
            "|       Marco Reus|    Germany|             null|        null|  Bor. Dortmund|           LW|    11.0|  07/01/2012|         2019.0|    88|182 cm| 76 kg|         Right|05/31/1989| 27|            LM/CAM|Medium / Medium|        4|          4|          85|       86|     30|            46|             36|        49|       87|                87|           50|    86|       82|      83|        86|       79|          89|   91|     73|      67|     82|     87|     72|     51|        87|       84|        85|   90|               84|       84|     88|            13|       12|        13|         12|         11|\n",
            "|         Coutinho|     Brazil|               RW|        11.0|      Liverpool|           LW|    10.0|  01/30/2013|         2022.0|    86|171 cm| 68 kg|         Right|06/12/1992| 24|            LW/CAM|    High / High|        4|          4|          88|       88|     24|            40|             44|        55|       81|                83|           30|    87|       79|      77|        85|       78|          89|   77|     79|      61|     91|     91|     59|     47|        79|       73|        85|   84|               79|       64|     75|            14|       12|         9|          7|          6|\n",
            "|    Dimitri Payet|     France|               LM|         8.0|Olym. Marseille|           LW|    11.0|  01/29/2017|         2021.0|    85|175 cm| 77 kg|         Right|03/29/1987| 30|             LM/LW|     High / Low|        4|          4|          90|       89|     29|            39|             36|        57|       76|                79|           37|    87|       86|      86|        86|       84|          79|   75|     73|      76|     81|     80|     48|     59|        78|       76|        83|   90|               91|       76|     79|            14|       11|         9|         15|         12|\n",
            "+-----------------+-----------+-----------------+------------+---------------+-------------+--------+------------+---------------+------+------+------+--------------+----------+---+------------------+---------------+---------+-----------+------------+---------+-------+--------------+---------------+----------+---------+------------------+-------------+------+---------+--------+----------+---------+------------+-----+-------+--------+-------+-------+-------+-------+----------+---------+----------+-----+-----------------+---------+-------+--------------+---------+----------+-----------+-----------+\n",
            "only showing top 5 rows\n",
            "\n"
          ]
        }
      ]
    },
    {
      "cell_type": "markdown",
      "source": [
        "4. Between the new available players after applying the filter, we must choose the perfect one.\n",
        "\n",
        "* Principal Component Analysis for visualizing the skills in just two dimensions. The chosen skills will be: 'Work_Rate', 'Weak_foot', 'Skill_Moves', 'Ball_Control', 'Dribbling', 'Marking', 'Sliding_Tackle', 'Standing_Tackle', 'Aggression', 'Reactions', 'Attacking_Position', 'Interceptions', 'Vision', 'Composure', 'Crossing', 'Short_Pass', 'Long_Pass', 'Acceleration', 'Speed', 'Stamina', 'Strength', 'Balance', 'Agility', 'Jumping', 'Heading', 'Shot_Power', 'Finishing', 'Long_Shots', 'Curve', 'Freekick_Accuracy', 'Penalties', 'Volleys'. Notice that we can also select the 'Name' column as label."
      ],
      "metadata": {
        "id": "DzgW86Oulin9"
      }
    },
    {
      "cell_type": "code",
      "source": [
        "PCA_dataset = available_players_filtered.select('Name', 'Work_Rate', 'Weak_foot', 'Skill_Moves', 'Ball_Control',\n",
        "                                         'Dribbling', 'Marking', 'Sliding_Tackle', 'Standing_Tackle',\n",
        "                                         'Aggression', 'Reactions', 'Attacking_Position', 'Interceptions',\n",
        "                                         'Vision', 'Composure', 'Crossing', 'Short_Pass', 'Long_Pass',\n",
        "                                         'Acceleration', 'Speed', 'Stamina', 'Strength', 'Balance',\n",
        "                                         'Agility', 'Jumping', 'Heading', 'Shot_Power', 'Finishing',\n",
        "                                         'Long_Shots', 'Curve', 'Freekick_Accuracy', 'Penalties', 'Volleys')"
      ],
      "metadata": {
        "id": "3SJMOc81g_7x"
      },
      "execution_count": 30,
      "outputs": []
    },
    {
      "cell_type": "code",
      "source": [
        "PCA_dataset.show(5)"
      ],
      "metadata": {
        "colab": {
          "base_uri": "https://localhost:8080/"
        },
        "id": "Z2_tutzJnjb9",
        "outputId": "f9f1f536-979a-48dd-9060-6dced2a64077"
      },
      "execution_count": 47,
      "outputs": [
        {
          "output_type": "stream",
          "name": "stdout",
          "text": [
            "+-----------------+---------------+---------+-----------+------------+---------+-------+--------------+---------------+----------+---------+------------------+-------------+------+---------+--------+----------+---------+------------+-----+-------+--------+-------+-------+-------+-------+----------+---------+----------+-----+-----------------+---------+-------+\n",
            "|             Name|      Work_Rate|Weak_foot|Skill_Moves|Ball_Control|Dribbling|Marking|Sliding_Tackle|Standing_Tackle|Aggression|Reactions|Attacking_Position|Interceptions|Vision|Composure|Crossing|Short_Pass|Long_Pass|Acceleration|Speed|Stamina|Strength|Balance|Agility|Jumping|Heading|Shot_Power|Finishing|Long_Shots|Curve|Freekick_Accuracy|Penalties|Volleys|\n",
            "+-----------------+---------------+---------+-----------+------------+---------+-------+--------------+---------------+----------+---------+------------------+-------------+------+---------+--------+----------+---------+------------+-----+-------+--------+-------+-------+-------+-------+----------+---------+----------+-----+-----------------+---------+-------+\n",
            "|Cristiano Ronaldo|     High / Low|        4|          5|          93|       92|     22|            23|             31|        63|       96|                94|           29|    85|       86|      84|        83|       77|          91|   92|     92|      80|     63|     90|     95|     85|        92|       93|        90|   81|               76|       85|     88|\n",
            "|      Eden Hazard|  High / Medium|        4|          4|          91|       93|     25|            22|             27|        54|       85|                85|           41|    86|       86|      80|        84|       80|          93|   87|     77|      65|     90|     92|     59|     57|        79|       81|        82|   82|               79|       86|     79|\n",
            "|       Marco Reus|Medium / Medium|        4|          4|          85|       86|     30|            46|             36|        49|       87|                87|           50|    86|       82|      83|        86|       79|          89|   91|     73|      67|     82|     87|     72|     51|        87|       84|        85|   90|               84|       84|     88|\n",
            "|         Coutinho|    High / High|        4|          4|          88|       88|     24|            40|             44|        55|       81|                83|           30|    87|       79|      77|        85|       78|          89|   77|     79|      61|     91|     91|     59|     47|        79|       73|        85|   84|               79|       64|     75|\n",
            "|    Dimitri Payet|     High / Low|        4|          4|          90|       89|     29|            39|             36|        57|       76|                79|           37|    87|       86|      86|        86|       84|          79|   75|     73|      76|     81|     80|     48|     59|        78|       76|        83|   90|               91|       76|     79|\n",
            "+-----------------+---------------+---------+-----------+------------+---------+-------+--------------+---------------+----------+---------+------------------+-------------+------+---------+--------+----------+---------+------------+-----+-------+--------+-------+-------+-------+-------+----------+---------+----------+-----+-----------------+---------+-------+\n",
            "only showing top 5 rows\n",
            "\n"
          ]
        }
      ]
    },
    {
      "cell_type": "markdown",
      "source": [
        "Notice the variable 'Work_Rate' is categorical, and not numerical. First of all, we must convert to int categories. The simplest transformation could be the next one:\n",
        "\n",
        "High / Low      ---> 1\n",
        "\n",
        "High / Medium   ---> 2\n",
        "\n",
        "Medium / Medium ---> 3\n",
        "\n",
        "High / High     ---> 4\n",
        "\n",
        "High / Low      ---> 5\n",
        "\n",
        "...\n",
        "\n",
        "Although this transformation does not keep the order, the best one should be High / Low ---> (3, 1) and totally ordered, then splitted into two columns, that is enough for what we want to see."
      ],
      "metadata": {
        "id": "h8o2QQQkuimI"
      }
    },
    {
      "cell_type": "code",
      "source": [
        "from pyspark.ml.feature import StringIndexer\n",
        "\n",
        "indexer = StringIndexer(inputCol=\"Work_Rate\", outputCol=\"Work_Rate_numerical\")\n",
        "indexed = indexer.fit(PCA_dataset).transform(PCA_dataset)\n",
        "indexed = indexed.drop('Work_Rate')\n",
        "indexed.show(5)"
      ],
      "metadata": {
        "colab": {
          "base_uri": "https://localhost:8080/"
        },
        "id": "TQ1zj6_tnlwV",
        "outputId": "6b90b704-9b03-4aa5-a076-2c13dd9c8de1"
      },
      "execution_count": 49,
      "outputs": [
        {
          "output_type": "stream",
          "name": "stdout",
          "text": [
            "+-----------------+---------+-----------+------------+---------+-------+--------------+---------------+----------+---------+------------------+-------------+------+---------+--------+----------+---------+------------+-----+-------+--------+-------+-------+-------+-------+----------+---------+----------+-----+-----------------+---------+-------+-------------------+\n",
            "|             Name|Weak_foot|Skill_Moves|Ball_Control|Dribbling|Marking|Sliding_Tackle|Standing_Tackle|Aggression|Reactions|Attacking_Position|Interceptions|Vision|Composure|Crossing|Short_Pass|Long_Pass|Acceleration|Speed|Stamina|Strength|Balance|Agility|Jumping|Heading|Shot_Power|Finishing|Long_Shots|Curve|Freekick_Accuracy|Penalties|Volleys|Work_Rate_numerical|\n",
            "+-----------------+---------+-----------+------------+---------+-------+--------------+---------------+----------+---------+------------------+-------------+------+---------+--------+----------+---------+------------+-----+-------+--------+-------+-------+-------+-------+----------+---------+----------+-----+-----------------+---------+-------+-------------------+\n",
            "|Cristiano Ronaldo|        4|          5|          93|       92|     22|            23|             31|        63|       96|                94|           29|    85|       86|      84|        83|       77|          91|   92|     92|      80|     63|     90|     95|     85|        92|       93|        90|   81|               76|       85|     88|                1.0|\n",
            "|      Eden Hazard|        4|          4|          91|       93|     25|            22|             27|        54|       85|                85|           41|    86|       86|      80|        84|       80|          93|   87|     77|      65|     90|     92|     59|     57|        79|       81|        82|   82|               79|       86|     79|                0.0|\n",
            "|       Marco Reus|        4|          4|          85|       86|     30|            46|             36|        49|       87|                87|           50|    86|       82|      83|        86|       79|          89|   91|     73|      67|     82|     87|     72|     51|        87|       84|        85|   90|               84|       84|     88|                2.0|\n",
            "|         Coutinho|        4|          4|          88|       88|     24|            40|             44|        55|       81|                83|           30|    87|       79|      77|        85|       78|          89|   77|     79|      61|     91|     91|     59|     47|        79|       73|        85|   84|               79|       64|     75|                3.0|\n",
            "|    Dimitri Payet|        4|          4|          90|       89|     29|            39|             36|        57|       76|                79|           37|    87|       86|      86|        86|       84|          79|   75|     73|      76|     81|     80|     48|     59|        78|       76|        83|   90|               91|       76|     79|                1.0|\n",
            "+-----------------+---------+-----------+------------+---------+-------+--------------+---------------+----------+---------+------------------+-------------+------+---------+--------+----------+---------+------------+-----+-------+--------+-------+-------+-------+-------+----------+---------+----------+-----+-----------------+---------+-------+-------------------+\n",
            "only showing top 5 rows\n",
            "\n"
          ]
        }
      ]
    },
    {
      "cell_type": "markdown",
      "source": [
        "Now we can normalize and standarize the data in order to attempt the PCA."
      ],
      "metadata": {
        "id": "ml4BHotnOsm4"
      }
    },
    {
      "cell_type": "code",
      "source": [
        "from pyspark.ml.feature import StandardScaler\n",
        "\n",
        "standardScaler = StandardScaler()\n",
        "standardScaler.setInputCol('Work_Rate', 'Weak_foot', 'Skill_Moves', 'Ball_Control',\n",
        "                           'Dribbling', 'Marking', 'Sliding_Tackle', 'Standing_Tackle',\n",
        "                           'Aggression', 'Reactions', 'Attacking_Position', 'Interceptions',\n",
        "                           'Vision', 'Composure', 'Crossing', 'Short_Pass', 'Long_Pass',\n",
        "                           'Acceleration', 'Speed', 'Stamina', 'Strength', 'Balance',\n",
        "                           'Agility', 'Jumping', 'Heading', 'Shot_Power', 'Finishing',\n",
        "                           'Long_Shots', 'Curve', 'Freekick_Accuracy', 'Penalties', 'Volleys')\n",
        "\n",
        "model = standardScaler.fit(indexed)\n",
        "model.getInputCol()"
      ],
      "metadata": {
        "colab": {
          "base_uri": "https://localhost:8080/",
          "height": 245
        },
        "id": "nQSBYkJYvm73",
        "outputId": "da20a371-e82c-4f26-e79c-13a031750576"
      },
      "execution_count": 34,
      "outputs": [
        {
          "output_type": "error",
          "ename": "TypeError",
          "evalue": "ignored",
          "traceback": [
            "\u001b[0;31m---------------------------------------------------------------------------\u001b[0m",
            "\u001b[0;31mTypeError\u001b[0m                                 Traceback (most recent call last)",
            "\u001b[0;32m<ipython-input-34-b76bb9179e37>\u001b[0m in \u001b[0;36m<cell line: 4>\u001b[0;34m()\u001b[0m\n\u001b[1;32m      2\u001b[0m \u001b[0;34m\u001b[0m\u001b[0m\n\u001b[1;32m      3\u001b[0m \u001b[0mstandardScaler\u001b[0m \u001b[0;34m=\u001b[0m \u001b[0mStandardScaler\u001b[0m\u001b[0;34m(\u001b[0m\u001b[0;34m)\u001b[0m\u001b[0;34m\u001b[0m\u001b[0;34m\u001b[0m\u001b[0m\n\u001b[0;32m----> 4\u001b[0;31m standardScaler.setInputCol('Work_Rate', 'Weak_foot', 'Skill_Moves', 'Ball_Control', \n\u001b[0m\u001b[1;32m      5\u001b[0m                            \u001b[0;34m'Dribbling'\u001b[0m\u001b[0;34m,\u001b[0m \u001b[0;34m'Marking'\u001b[0m\u001b[0;34m,\u001b[0m \u001b[0;34m'Sliding_Tackle'\u001b[0m\u001b[0;34m,\u001b[0m \u001b[0;34m'Standing_Tackle'\u001b[0m\u001b[0;34m,\u001b[0m\u001b[0;34m\u001b[0m\u001b[0;34m\u001b[0m\u001b[0m\n\u001b[1;32m      6\u001b[0m                            \u001b[0;34m'Aggression'\u001b[0m\u001b[0;34m,\u001b[0m \u001b[0;34m'Reactions'\u001b[0m\u001b[0;34m,\u001b[0m \u001b[0;34m'Attacking_Position'\u001b[0m\u001b[0;34m,\u001b[0m \u001b[0;34m'Interceptions'\u001b[0m\u001b[0;34m,\u001b[0m\u001b[0;34m\u001b[0m\u001b[0;34m\u001b[0m\u001b[0m\n",
            "\u001b[0;31mTypeError\u001b[0m: StandardScaler.setInputCol() takes 2 positional arguments but 33 were given"
          ]
        }
      ]
    },
    {
      "cell_type": "code",
      "source": [],
      "metadata": {
        "id": "p4E4H-EoxLP9"
      },
      "execution_count": null,
      "outputs": []
    }
  ]
}