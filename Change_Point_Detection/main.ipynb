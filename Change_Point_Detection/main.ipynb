{
  "nbformat": 4,
  "nbformat_minor": 0,
  "metadata": {
    "colab": {
      "provenance": [],
      "authorship_tag": "ABX9TyNXkAetflF14B1LTYQFyg99",
      "include_colab_link": true
    },
    "kernelspec": {
      "name": "python3",
      "display_name": "Python 3"
    },
    "language_info": {
      "name": "python"
    }
  },
  "cells": [
    {
      "cell_type": "markdown",
      "metadata": {
        "id": "view-in-github",
        "colab_type": "text"
      },
      "source": [
        "<a href=\"https://colab.research.google.com/github/josefernandezest98/training/blob/main/Change_Point_Detection/main.ipynb\" target=\"_parent\"><img src=\"https://colab.research.google.com/assets/colab-badge.svg\" alt=\"Open In Colab\"/></a>"
      ]
    },
    {
      "cell_type": "markdown",
      "source": [
        "# Change Point Detection"
      ],
      "metadata": {
        "id": "imL0WaPBv3Zk"
      }
    },
    {
      "cell_type": "code",
      "source": [
        "!pip install ruptures"
      ],
      "metadata": {
        "colab": {
          "base_uri": "https://localhost:8080/"
        },
        "id": "f_-r6DMTxcwj",
        "outputId": "957688f6-be52-489b-d08b-1c7b769fc2d7"
      },
      "execution_count": 5,
      "outputs": [
        {
          "output_type": "stream",
          "name": "stdout",
          "text": [
            "Requirement already satisfied: ruptures in /usr/local/lib/python3.10/dist-packages (1.1.8)\n",
            "Requirement already satisfied: numpy in /usr/local/lib/python3.10/dist-packages (from ruptures) (1.23.5)\n",
            "Requirement already satisfied: scipy in /usr/local/lib/python3.10/dist-packages (from ruptures) (1.11.2)\n"
          ]
        }
      ]
    },
    {
      "cell_type": "code",
      "source": [
        "import numpy as np\n",
        "import ruptures as rpt"
      ],
      "metadata": {
        "id": "OR51zlc3w3FD"
      },
      "execution_count": 6,
      "outputs": []
    },
    {
      "cell_type": "markdown",
      "source": [
        "## 0. Signal Creation"
      ],
      "metadata": {
        "id": "8iXmOFjoxjsb"
      }
    },
    {
      "cell_type": "code",
      "source": [
        "# generate signal\n",
        "n_samples, dim, sigma = 1000, 3, 5\n",
        "n_bkps = 4  # number of breakpoints\n",
        "signal, bkps = rpt.pw_constant(n_samples, dim, n_bkps, noise_std=sigma)\n",
        "\n",
        "# 1D signal\n",
        "d1_signal = [signal[i][0] for i in range(len(signal))]"
      ],
      "metadata": {
        "id": "bh3smMPxxgfk"
      },
      "execution_count": 8,
      "outputs": []
    },
    {
      "cell_type": "markdown",
      "source": [
        "## 1. Costs functions"
      ],
      "metadata": {
        "id": "lsvIZEp2v-Ms"
      }
    },
    {
      "cell_type": "code",
      "execution_count": 16,
      "metadata": {
        "id": "bNOwDo74v20o"
      },
      "outputs": [],
      "source": [
        "# Least absolute derivation (L1)\n",
        "def l1_cost(signal, start, end):\n",
        "  subset = signal[start:end]\n",
        "  med = np.median(subset, axis=0)\n",
        "  return abs(subset - med).sum()\n",
        "\n",
        "# Least squared deviation (L2)\n",
        "def l2_cost(signal, start, end):\n",
        "  subset = signal[start:end]\n",
        "  return subset.var(axis=0).sum()*(end - start)"
      ]
    },
    {
      "cell_type": "code",
      "source": [],
      "metadata": {
        "id": "oMyLJKXHySYQ"
      },
      "execution_count": null,
      "outputs": []
    }
  ]
}