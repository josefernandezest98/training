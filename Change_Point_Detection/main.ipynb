{
  "nbformat": 4,
  "nbformat_minor": 0,
  "metadata": {
    "colab": {
      "provenance": [],
      "authorship_tag": "ABX9TyNrPjEvNUR80eP8cKp5Lw3p",
      "include_colab_link": true
    },
    "kernelspec": {
      "name": "python3",
      "display_name": "Python 3"
    },
    "language_info": {
      "name": "python"
    }
  },
  "cells": [
    {
      "cell_type": "markdown",
      "metadata": {
        "id": "view-in-github",
        "colab_type": "text"
      },
      "source": [
        "<a href=\"https://colab.research.google.com/github/josefernandezest98/training/blob/main/Change_Point_Detection/main.ipynb\" target=\"_parent\"><img src=\"https://colab.research.google.com/assets/colab-badge.svg\" alt=\"Open In Colab\"/></a>"
      ]
    },
    {
      "cell_type": "markdown",
      "source": [
        "# Change Point Detection"
      ],
      "metadata": {
        "id": "imL0WaPBv3Zk"
      }
    },
    {
      "cell_type": "code",
      "source": [
        "!pip install ruptures"
      ],
      "metadata": {
        "colab": {
          "base_uri": "https://localhost:8080/"
        },
        "id": "f_-r6DMTxcwj",
        "outputId": "6b8b0450-f81d-4860-9f47-b144e79eea04"
      },
      "execution_count": 103,
      "outputs": [
        {
          "output_type": "stream",
          "name": "stdout",
          "text": [
            "Requirement already satisfied: ruptures in /usr/local/lib/python3.10/dist-packages (1.1.8)\n",
            "Requirement already satisfied: numpy in /usr/local/lib/python3.10/dist-packages (from ruptures) (1.23.5)\n",
            "Requirement already satisfied: scipy in /usr/local/lib/python3.10/dist-packages (from ruptures) (1.11.2)\n"
          ]
        }
      ]
    },
    {
      "cell_type": "code",
      "source": [
        "import numpy as np\n",
        "import ruptures as rpt\n",
        "import matplotlib.pyplot as plt"
      ],
      "metadata": {
        "id": "OR51zlc3w3FD"
      },
      "execution_count": 104,
      "outputs": []
    },
    {
      "cell_type": "markdown",
      "source": [
        "## 0. Signal Creation"
      ],
      "metadata": {
        "id": "8iXmOFjoxjsb"
      }
    },
    {
      "cell_type": "code",
      "source": [
        "# generate signal\n",
        "n_samples, dim, sigma = 1000, 3, 5\n",
        "n_bkps = 4  # number of breakpoints\n",
        "signal, bkps = rpt.pw_constant(n_samples, dim, n_bkps, noise_std=sigma)\n",
        "\n",
        "# 1D signal\n",
        "d1_signal = [signal[i][0] for i in range(len(signal))]\n",
        "x = list(range(len(d1_signal)))"
      ],
      "metadata": {
        "id": "bh3smMPxxgfk"
      },
      "execution_count": 144,
      "outputs": []
    },
    {
      "cell_type": "code",
      "source": [
        "# Dataset 0\n",
        "\n",
        "lists = []\n",
        "for j in range(0,4501,500):\n",
        "  lists.append([i for i in range(j,j+500,20)])\n",
        "for lista in lists:\n",
        "  lista.reverse()\n",
        "\n",
        "lists_nr = []\n",
        "for j in range(0,5001,500):\n",
        "  lists_nr.append(np.repeat(j,50).tolist())\n",
        "\n"
      ],
      "metadata": {
        "id": "MiQd6vamXP7F"
      },
      "execution_count": 162,
      "outputs": []
    },
    {
      "cell_type": "code",
      "source": [],
      "metadata": {
        "colab": {
          "base_uri": "https://localhost:8080/"
        },
        "id": "Liy9sRCOXayp",
        "outputId": "36fa4beb-4ad6-4569-8e7e-3eda3c5ee823"
      },
      "execution_count": 163,
      "outputs": [
        {
          "output_type": "execute_result",
          "data": {
            "text/plain": [
              "11"
            ]
          },
          "metadata": {},
          "execution_count": 163
        }
      ]
    },
    {
      "cell_type": "markdown",
      "source": [
        "## 1. Costs function"
      ],
      "metadata": {
        "id": "lsvIZEp2v-Ms"
      }
    },
    {
      "cell_type": "code",
      "execution_count": 106,
      "metadata": {
        "id": "bNOwDo74v20o"
      },
      "outputs": [],
      "source": [
        "# Least absolute derivation (L1)\n",
        "def l1_cost(signal, start, end):\n",
        "  subset = signal[start:end]\n",
        "  med = np.median(subset, axis=0)\n",
        "  return abs(subset - med).sum()\n",
        "\n",
        "# Least squared deviation (L2)\n",
        "def l2_cost(signal, start, end):\n",
        "  subset = signal[start:end]\n",
        "  return subset.var(axis=0).sum()*(end - start)"
      ]
    },
    {
      "cell_type": "markdown",
      "source": [
        "## 2. Optimal changing point"
      ],
      "metadata": {
        "id": "y-5CtX5zzysT"
      }
    },
    {
      "cell_type": "code",
      "source": [
        "def optimal_cp(signal, start, end):\n",
        "        segment_cost = l2_cost(signal, start, end)\n",
        "        if np.isinf(segment_cost) and segment_cost < 0:  # if cost is -inf\n",
        "            return None, 0\n",
        "        gain_list = list()\n",
        "        for bkp in range(start, end, 5):\n",
        "            if bkp - start >= 1 and end - bkp >= 1:\n",
        "                gain = (\n",
        "                    segment_cost - l2_cost(signal, start, bkp) - l2_cost(signal, bkp, end)\n",
        "                )\n",
        "                gain_list.append((gain, bkp))\n",
        "        try:\n",
        "            gain, bkp = max(gain_list)\n",
        "        except ValueError:  # if empty sub_sampling\n",
        "            return None, 0\n",
        "        return gain_list, bkp, gain"
      ],
      "metadata": {
        "id": "oMyLJKXHySYQ"
      },
      "execution_count": 146,
      "outputs": []
    },
    {
      "cell_type": "code",
      "source": [
        "y_ = np.array(np.repeat(100,50).tolist() + np.repeat(0,50).tolist())\n",
        "x_ = range(len(y_))"
      ],
      "metadata": {
        "id": "nHHYm2ua4XST"
      },
      "execution_count": 147,
      "outputs": []
    },
    {
      "cell_type": "code",
      "source": [
        "plt.plot(x_,y_)"
      ],
      "metadata": {
        "colab": {
          "base_uri": "https://localhost:8080/",
          "height": 447
        },
        "id": "5BiHcaGi1-LT",
        "outputId": "f9bea403-a5ee-4ce0-b9e6-ade6da63629d"
      },
      "execution_count": 148,
      "outputs": [
        {
          "output_type": "execute_result",
          "data": {
            "text/plain": [
              "[<matplotlib.lines.Line2D at 0x785d89c40f10>]"
            ]
          },
          "metadata": {},
          "execution_count": 148
        },
        {
          "output_type": "display_data",
          "data": {
            "text/plain": [
              "<Figure size 640x480 with 1 Axes>"
            ],
            "image/png": "[encoded data removed]"
          },
          "metadata": {}
        }
      ]
    },
    {
      "cell_type": "code",
      "source": [
        "rev = [i for i in range(30,50,4)]\n",
        "rev.reverse()\n",
        "y__ = np.array([i for i in range(50)] + rev + [i for i in range(30,80)])\n",
        "x__ = np.array([i for i in range(len(y__))])"
      ],
      "metadata": {
        "id": "Qf1ZoivP3KmE"
      },
      "execution_count": 149,
      "outputs": []
    },
    {
      "cell_type": "code",
      "source": [
        "plt.plot(x__,y__)"
      ],
      "metadata": {
        "colab": {
          "base_uri": "https://localhost:8080/",
          "height": 447
        },
        "id": "ehel-xwJMvzw",
        "outputId": "e4148c3a-897b-46e0-cc60-321bd0caa798"
      },
      "execution_count": 150,
      "outputs": [
        {
          "output_type": "execute_result",
          "data": {
            "text/plain": [
              "[<matplotlib.lines.Line2D at 0x785d89cd5fc0>]"
            ]
          },
          "metadata": {},
          "execution_count": 150
        },
        {
          "output_type": "display_data",
          "data": {
            "text/plain": [
              "<Figure size 640x480 with 1 Axes>"
            ],
            "image/png": "[encoded data removed]"
          },
          "metadata": {}
        }
      ]
    },
    {
      "cell_type": "code",
      "source": [
        "optimal_cp(y__, 0, len(y__)-1)"
      ],
      "metadata": {
        "colab": {
          "base_uri": "https://localhost:8080/"
        },
        "id": "9FUlPqYTMwuW",
        "outputId": "725eeb49-63cd-4b84-ee1c-c696366282f9"
      },
      "execution_count": 151,
      "outputs": [
        {
          "output_type": "execute_result",
          "data": {
            "text/plain": [
              "([(7209.406080031091, 5),\n",
              "  (13205.451104746324, 10),\n",
              "  (18002.737143474496, 15),\n",
              "  (21619.342948717953, 20),\n",
              "  (24077.92417234664, 25),\n",
              "  (25407.259615384617, 30),\n",
              "  (25644.469760312153, 35),\n",
              "  (24838.275240384617, 40),\n",
              "  (23053.9121577575, 45),\n",
              "  (20380.778133903135, 50),\n",
              "  (20713.850524475525, 55),\n",
              "  (23228.509615384617, 60),\n",
              "  (24840.144230769234, 65),\n",
              "  (25463.68818681319, 70),\n",
              "  (25036.759615384617, 75),\n",
              "  (23512.572115384617, 80),\n",
              "  (20855.347850678732, 85),\n",
              "  (17037.259615384613, 90),\n",
              "  (12036.33856275304, 95),\n",
              "  (5835.009615384617, 100)],\n",
              " 35,\n",
              " 25644.469760312153)"
            ]
          },
          "metadata": {},
          "execution_count": 151
        }
      ]
    },
    {
      "cell_type": "code",
      "source": [
        "max(gain_list[1:])"
      ],
      "metadata": {
        "colab": {
          "base_uri": "https://localhost:8080/"
        },
        "id": "EERc92fnNgfp",
        "outputId": "12487db2-75a7-481f-ec17-a458d7ab59a7"
      },
      "execution_count": 152,
      "outputs": [
        {
          "output_type": "execute_result",
          "data": {
            "text/plain": [
              "(0.0, 5)"
            ]
          },
          "metadata": {},
          "execution_count": 152
        }
      ]
    },
    {
      "cell_type": "code",
      "source": [],
      "metadata": {
        "id": "XGyheCULNjUS"
      },
      "execution_count": null,
      "outputs": []
    }
  ]
}